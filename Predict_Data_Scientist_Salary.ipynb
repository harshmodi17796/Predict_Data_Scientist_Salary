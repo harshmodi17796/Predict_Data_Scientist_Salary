{
 "cells": [
  {
   "cell_type": "markdown",
   "metadata": {},
   "source": [
    "##### Welcome to this project... \n",
    "    I have divided this project in various steps,where each step will show the tasks.In some of the steps, the evaluation   after the step has been written. These evaluations help not only to understand the steps but  also give the direction of  the next step.Sometimes,the useful comments have been written within the step, which will explain the logic behind the    line of code.At last, the results of the various algorithms have been compared.\n",
    "##### Let's begin..."
   ]
  },
  {
   "cell_type": "markdown",
   "metadata": {},
   "source": [
    "#### Step 1:\n",
    "Import all the necessary libraries and load the data. \n",
    "After loading the data,analyse it briefly."
   ]
  },
  {
   "cell_type": "code",
   "execution_count": 1,
   "metadata": {},
   "outputs": [],
   "source": [
    "import pandas as pd\n",
    "import numpy as np\n",
    "import seaborn as sns\n",
    "import matplotlib.pyplot as plt\n",
    "import time\n",
    "%matplotlib inline"
   ]
  },
  {
   "cell_type": "code",
   "execution_count": 2,
   "metadata": {},
   "outputs": [],
   "source": [
    "df = pd.read_csv('glassdoor_jobs.csv')"
   ]
  },
  {
   "cell_type": "code",
   "execution_count": 3,
   "metadata": {},
   "outputs": [
    {
     "data": {
      "text/html": [
       "<div>\n",
       "<style scoped>\n",
       "    .dataframe tbody tr th:only-of-type {\n",
       "        vertical-align: middle;\n",
       "    }\n",
       "\n",
       "    .dataframe tbody tr th {\n",
       "        vertical-align: top;\n",
       "    }\n",
       "\n",
       "    .dataframe thead th {\n",
       "        text-align: right;\n",
       "    }\n",
       "</style>\n",
       "<table border=\"1\" class=\"dataframe\">\n",
       "  <thead>\n",
       "    <tr style=\"text-align: right;\">\n",
       "      <th></th>\n",
       "      <th>Job Title</th>\n",
       "      <th>Salary Estimate</th>\n",
       "      <th>Job Description</th>\n",
       "      <th>Rating</th>\n",
       "      <th>Company Name</th>\n",
       "      <th>Location</th>\n",
       "      <th>Headquarters</th>\n",
       "      <th>Size</th>\n",
       "      <th>Founded</th>\n",
       "      <th>Type of ownership</th>\n",
       "      <th>Industry</th>\n",
       "      <th>Sector</th>\n",
       "      <th>Revenue</th>\n",
       "      <th>Competitors</th>\n",
       "    </tr>\n",
       "  </thead>\n",
       "  <tbody>\n",
       "    <tr>\n",
       "      <td>0</td>\n",
       "      <td>Data Scientist</td>\n",
       "      <td>$53K-$91K (Glassdoor est.)</td>\n",
       "      <td>Data Scientist\\r\\nLocation: Albuquerque, NM\\r\\...</td>\n",
       "      <td>3.8</td>\n",
       "      <td>Tecolote Research\\r\\n3.8</td>\n",
       "      <td>Albuquerque, NM</td>\n",
       "      <td>Goleta, CA</td>\n",
       "      <td>501 to 1000 employees</td>\n",
       "      <td>1973</td>\n",
       "      <td>Company - Private</td>\n",
       "      <td>Aerospace &amp; Defense</td>\n",
       "      <td>Aerospace &amp; Defense</td>\n",
       "      <td>$50 to $100 million (USD)</td>\n",
       "      <td>-1</td>\n",
       "    </tr>\n",
       "    <tr>\n",
       "      <td>1</td>\n",
       "      <td>Healthcare Data Scientist</td>\n",
       "      <td>$63K-$112K (Glassdoor est.)</td>\n",
       "      <td>What You Will Do:\\r\\n\\r\\nI. General Summary\\r\\...</td>\n",
       "      <td>3.4</td>\n",
       "      <td>University of Maryland Medical System\\r\\n3.4</td>\n",
       "      <td>Linthicum, MD</td>\n",
       "      <td>Baltimore, MD</td>\n",
       "      <td>10000+ employees</td>\n",
       "      <td>1984</td>\n",
       "      <td>Other Organization</td>\n",
       "      <td>Health Care Services &amp; Hospitals</td>\n",
       "      <td>Health Care</td>\n",
       "      <td>$2 to $5 billion (USD)</td>\n",
       "      <td>-1</td>\n",
       "    </tr>\n",
       "    <tr>\n",
       "      <td>2</td>\n",
       "      <td>Data Scientist</td>\n",
       "      <td>$80K-$90K (Glassdoor est.)</td>\n",
       "      <td>KnowBe4, Inc. is a high growth information sec...</td>\n",
       "      <td>4.8</td>\n",
       "      <td>KnowBe4\\r\\n4.8</td>\n",
       "      <td>Clearwater, FL</td>\n",
       "      <td>Clearwater, FL</td>\n",
       "      <td>501 to 1000 employees</td>\n",
       "      <td>2010</td>\n",
       "      <td>Company - Private</td>\n",
       "      <td>Security Services</td>\n",
       "      <td>Business Services</td>\n",
       "      <td>$100 to $500 million (USD)</td>\n",
       "      <td>-1</td>\n",
       "    </tr>\n",
       "    <tr>\n",
       "      <td>3</td>\n",
       "      <td>Data Scientist</td>\n",
       "      <td>$56K-$97K (Glassdoor est.)</td>\n",
       "      <td>*Organization and Job ID**\\r\\nJob ID: 310709\\r...</td>\n",
       "      <td>3.8</td>\n",
       "      <td>PNNL\\r\\n3.8</td>\n",
       "      <td>Richland, WA</td>\n",
       "      <td>Richland, WA</td>\n",
       "      <td>1001 to 5000 employees</td>\n",
       "      <td>1965</td>\n",
       "      <td>Government</td>\n",
       "      <td>Energy</td>\n",
       "      <td>Oil, Gas, Energy &amp; Utilities</td>\n",
       "      <td>$500 million to $1 billion (USD)</td>\n",
       "      <td>Oak Ridge National Laboratory, National Renewa...</td>\n",
       "    </tr>\n",
       "    <tr>\n",
       "      <td>4</td>\n",
       "      <td>Data Scientist</td>\n",
       "      <td>$86K-$143K (Glassdoor est.)</td>\n",
       "      <td>Data Scientist\\r\\nAffinity Solutions / Marketi...</td>\n",
       "      <td>2.9</td>\n",
       "      <td>Affinity Solutions\\r\\n2.9</td>\n",
       "      <td>New York, NY</td>\n",
       "      <td>New York, NY</td>\n",
       "      <td>51 to 200 employees</td>\n",
       "      <td>1998</td>\n",
       "      <td>Company - Private</td>\n",
       "      <td>Advertising &amp; Marketing</td>\n",
       "      <td>Business Services</td>\n",
       "      <td>Unknown / Non-Applicable</td>\n",
       "      <td>Commerce Signals, Cardlytics, Yodlee</td>\n",
       "    </tr>\n",
       "  </tbody>\n",
       "</table>\n",
       "</div>"
      ],
      "text/plain": [
       "                   Job Title              Salary Estimate  \\\n",
       "0             Data Scientist   $53K-$91K (Glassdoor est.)   \n",
       "1  Healthcare Data Scientist  $63K-$112K (Glassdoor est.)   \n",
       "2             Data Scientist   $80K-$90K (Glassdoor est.)   \n",
       "3             Data Scientist   $56K-$97K (Glassdoor est.)   \n",
       "4             Data Scientist  $86K-$143K (Glassdoor est.)   \n",
       "\n",
       "                                     Job Description  Rating  \\\n",
       "0  Data Scientist\\r\\nLocation: Albuquerque, NM\\r\\...     3.8   \n",
       "1  What You Will Do:\\r\\n\\r\\nI. General Summary\\r\\...     3.4   \n",
       "2  KnowBe4, Inc. is a high growth information sec...     4.8   \n",
       "3  *Organization and Job ID**\\r\\nJob ID: 310709\\r...     3.8   \n",
       "4  Data Scientist\\r\\nAffinity Solutions / Marketi...     2.9   \n",
       "\n",
       "                                   Company Name         Location  \\\n",
       "0                      Tecolote Research\\r\\n3.8  Albuquerque, NM   \n",
       "1  University of Maryland Medical System\\r\\n3.4    Linthicum, MD   \n",
       "2                                KnowBe4\\r\\n4.8   Clearwater, FL   \n",
       "3                                   PNNL\\r\\n3.8     Richland, WA   \n",
       "4                     Affinity Solutions\\r\\n2.9     New York, NY   \n",
       "\n",
       "     Headquarters                    Size  Founded   Type of ownership  \\\n",
       "0      Goleta, CA   501 to 1000 employees     1973   Company - Private   \n",
       "1   Baltimore, MD        10000+ employees     1984  Other Organization   \n",
       "2  Clearwater, FL   501 to 1000 employees     2010   Company - Private   \n",
       "3    Richland, WA  1001 to 5000 employees     1965          Government   \n",
       "4    New York, NY     51 to 200 employees     1998   Company - Private   \n",
       "\n",
       "                           Industry                        Sector  \\\n",
       "0               Aerospace & Defense           Aerospace & Defense   \n",
       "1  Health Care Services & Hospitals                   Health Care   \n",
       "2                 Security Services             Business Services   \n",
       "3                            Energy  Oil, Gas, Energy & Utilities   \n",
       "4           Advertising & Marketing             Business Services   \n",
       "\n",
       "                            Revenue  \\\n",
       "0         $50 to $100 million (USD)   \n",
       "1            $2 to $5 billion (USD)   \n",
       "2        $100 to $500 million (USD)   \n",
       "3  $500 million to $1 billion (USD)   \n",
       "4          Unknown / Non-Applicable   \n",
       "\n",
       "                                         Competitors  \n",
       "0                                                 -1  \n",
       "1                                                 -1  \n",
       "2                                                 -1  \n",
       "3  Oak Ridge National Laboratory, National Renewa...  \n",
       "4               Commerce Signals, Cardlytics, Yodlee  "
      ]
     },
     "execution_count": 3,
     "metadata": {},
     "output_type": "execute_result"
    }
   ],
   "source": [
    "df = df.drop(columns=['Unnamed: 0'])\n",
    "df.head()"
   ]
  },
  {
   "cell_type": "code",
   "execution_count": 4,
   "metadata": {},
   "outputs": [
    {
     "data": {
      "text/plain": [
       "(956, 14)"
      ]
     },
     "execution_count": 4,
     "metadata": {},
     "output_type": "execute_result"
    }
   ],
   "source": [
    "df.shape"
   ]
  },
  {
   "cell_type": "code",
   "execution_count": 5,
   "metadata": {},
   "outputs": [
    {
     "data": {
      "text/plain": [
       "Job Title             object\n",
       "Salary Estimate       object\n",
       "Job Description       object\n",
       "Rating               float64\n",
       "Company Name          object\n",
       "Location              object\n",
       "Headquarters          object\n",
       "Size                  object\n",
       "Founded                int64\n",
       "Type of ownership     object\n",
       "Industry              object\n",
       "Sector                object\n",
       "Revenue               object\n",
       "Competitors           object\n",
       "dtype: object"
      ]
     },
     "execution_count": 5,
     "metadata": {},
     "output_type": "execute_result"
    }
   ],
   "source": [
    "df.dtypes"
   ]
  },
  {
   "cell_type": "markdown",
   "metadata": {},
   "source": [
    "familiarize with data"
   ]
  },
  {
   "cell_type": "code",
   "execution_count": 6,
   "metadata": {},
   "outputs": [
    {
     "data": {
      "text/plain": [
       "Job Title                                               Data Scientist\n",
       "Salary Estimate                             $53K-$91K (Glassdoor est.)\n",
       "Job Description      Data Scientist\\r\\nLocation: Albuquerque, NM\\r\\...\n",
       "Rating                                                             3.8\n",
       "Company Name                                  Tecolote Research\\r\\n3.8\n",
       "Location                                               Albuquerque, NM\n",
       "Headquarters                                                Goleta, CA\n",
       "Size                                             501 to 1000 employees\n",
       "Founded                                                           1973\n",
       "Type of ownership                                    Company - Private\n",
       "Industry                                           Aerospace & Defense\n",
       "Sector                                             Aerospace & Defense\n",
       "Revenue                                      $50 to $100 million (USD)\n",
       "Competitors                                                         -1\n",
       "Name: 0, dtype: object"
      ]
     },
     "execution_count": 6,
     "metadata": {},
     "output_type": "execute_result"
    }
   ],
   "source": [
    "df.iloc[0].T"
   ]
  },
  {
   "cell_type": "markdown",
   "metadata": {},
   "source": [
    "Checking whether all the category has similar pattern of data or not   "
   ]
  },
  {
   "cell_type": "code",
   "execution_count": 7,
   "metadata": {},
   "outputs": [
    {
     "data": {
      "text/plain": [
       "('$53K-$91K (Glassdoor est.)',\n",
       " '-1',\n",
       " 'Employer Provided Salary:$120K-$145K',\n",
       " '$17-$24 Per Hour(Glassdoor est.)')"
      ]
     },
     "execution_count": 7,
     "metadata": {},
     "output_type": "execute_result"
    }
   ],
   "source": [
    "df['Salary Estimate'].iloc[0], df['Salary Estimate'].iloc[24],df['Salary Estimate'].iloc[161],df['Salary Estimate'].iloc[197]"
   ]
  },
  {
   "cell_type": "markdown",
   "metadata": {},
   "source": [
    "#### Step_1 Evaluation:\n",
    "1. There are 14 features and 956 samples.\n",
    "2. In this 14 features, 12 features are categorical data and 2 features are numerical data.\n",
    "3. Our Label data 'Salary Estimate' is in categorical data. As it is the regression task, we need to convert it somehow numerical data.\n",
    "4. Where the data is not available in particular category, automatically it has considered value '-1'. In addition, sometime data pattern has also changed."
   ]
  },
  {
   "cell_type": "markdown",
   "metadata": {},
   "source": [
    "#### Step 2:\n",
    "Data Cleaning and feature generation\n",
    "1. Remove all those samples, which have different useless data pattern inside the particular feature. \n",
    "2. Create a new feature for different useful data pattern\n",
    "3. Salary Estimate : Convert categorical data into the numerical data, by taking mean from the maximum salary and minimum salary.\n",
    "4. Company Name : Take only name of the company\n",
    "5. Location : Seperate states and cities\n",
    "6. Job Description : Seperate all the information in different features\n",
    "7. Founded : Convert this feature in to the age of the company\n",
    "8. Job title : Seperate all the information in different features"
   ]
  },
  {
   "cell_type": "code",
   "execution_count": 8,
   "metadata": {},
   "outputs": [],
   "source": [
    "df = df[df['Salary Estimate'] != '-1']"
   ]
  },
  {
   "cell_type": "code",
   "execution_count": 9,
   "metadata": {},
   "outputs": [],
   "source": [
    "df['hourly'] = df['Salary Estimate'].apply(lambda x : 1 if 'per hour' in x.lower() else 0)"
   ]
  },
  {
   "cell_type": "code",
   "execution_count": 10,
   "metadata": {},
   "outputs": [],
   "source": [
    "df['employer_provided'] = df['Salary Estimate'].apply(lambda x : 1 if 'employer provided salary' in x.lower() else 0)"
   ]
  },
  {
   "cell_type": "code",
   "execution_count": 11,
   "metadata": {},
   "outputs": [],
   "source": [
    "salary = df['Salary Estimate'].apply(lambda x: x.split('(')[0])"
   ]
  },
  {
   "cell_type": "code",
   "execution_count": 12,
   "metadata": {},
   "outputs": [
    {
     "data": {
      "text/plain": [
       "('$53K-$91K ', 'Employer Provided Salary:$150K-$160K', '$17-$24 Per Hour')"
      ]
     },
     "execution_count": 12,
     "metadata": {},
     "output_type": "execute_result"
    }
   ],
   "source": [
    "salary[0],salary[48],salary[197]"
   ]
  },
  {
   "cell_type": "code",
   "execution_count": 13,
   "metadata": {},
   "outputs": [],
   "source": [
    "salary_range = salary.apply(lambda x : x.lower().replace('per hour','').replace('employer provided salary:','').replace('k','').replace('$',''))"
   ]
  },
  {
   "cell_type": "code",
   "execution_count": 14,
   "metadata": {},
   "outputs": [
    {
     "data": {
      "text/plain": [
       "('53-91 ', '150-160', '17-24 ')"
      ]
     },
     "execution_count": 14,
     "metadata": {},
     "output_type": "execute_result"
    }
   ],
   "source": [
    "salary_range[0],salary_range[48],salary_range[197]"
   ]
  },
  {
   "cell_type": "code",
   "execution_count": 15,
   "metadata": {},
   "outputs": [],
   "source": [
    "df['min_salary'] = salary_range.apply(lambda x: int(x.split('-')[0]))\n",
    "df['max_salary'] = salary_range.apply(lambda x: int(x.split('-')[1]))"
   ]
  },
  {
   "cell_type": "markdown",
   "metadata": {},
   "source": [
    "It It is always important that comparision should be done on the same reference scale.\n",
    "In our case, some times wage in hours and sometime it is the annual amount. We need to convert hourly wage in to annual wage."
   ]
  },
  {
   "cell_type": "code",
   "execution_count": 16,
   "metadata": {},
   "outputs": [
    {
     "data": {
      "text/html": [
       "<div>\n",
       "<style scoped>\n",
       "    .dataframe tbody tr th:only-of-type {\n",
       "        vertical-align: middle;\n",
       "    }\n",
       "\n",
       "    .dataframe tbody tr th {\n",
       "        vertical-align: top;\n",
       "    }\n",
       "\n",
       "    .dataframe thead th {\n",
       "        text-align: right;\n",
       "    }\n",
       "</style>\n",
       "<table border=\"1\" class=\"dataframe\">\n",
       "  <thead>\n",
       "    <tr style=\"text-align: right;\">\n",
       "      <th></th>\n",
       "      <th>min_salary</th>\n",
       "      <th>max_salary</th>\n",
       "      <th>avg_salary</th>\n",
       "    </tr>\n",
       "  </thead>\n",
       "  <tbody>\n",
       "    <tr>\n",
       "      <td>0</td>\n",
       "      <td>53</td>\n",
       "      <td>91</td>\n",
       "      <td>72.0</td>\n",
       "    </tr>\n",
       "    <tr>\n",
       "      <td>1</td>\n",
       "      <td>63</td>\n",
       "      <td>112</td>\n",
       "      <td>87.5</td>\n",
       "    </tr>\n",
       "    <tr>\n",
       "      <td>2</td>\n",
       "      <td>80</td>\n",
       "      <td>90</td>\n",
       "      <td>85.0</td>\n",
       "    </tr>\n",
       "  </tbody>\n",
       "</table>\n",
       "</div>"
      ],
      "text/plain": [
       "   min_salary  max_salary  avg_salary\n",
       "0          53          91        72.0\n",
       "1          63         112        87.5\n",
       "2          80          90        85.0"
      ]
     },
     "execution_count": 16,
     "metadata": {},
     "output_type": "execute_result"
    }
   ],
   "source": [
    "df['min_salary'] = df.apply(lambda x : x.min_salary*2 if x.hourly == 1 else x.min_salary,axis = 1)\n",
    "df['max_salary'] = df.apply(lambda x : x.max_salary*2 if x.hourly == 1 else x.max_salary,axis = 1)\n",
    "df['avg_salary'] = (df['max_salary'] + df['min_salary'])/2\n",
    "df[['min_salary','max_salary','avg_salary']][:3]"
   ]
  },
  {
   "cell_type": "code",
   "execution_count": 17,
   "metadata": {},
   "outputs": [
    {
     "data": {
      "text/plain": [
       "0                        Tecolote Research\n",
       "1    University of Maryland Medical System\n",
       "2                                  KnowBe4\n",
       "Name: company_txt, dtype: object"
      ]
     },
     "execution_count": 17,
     "metadata": {},
     "output_type": "execute_result"
    }
   ],
   "source": [
    "df['company_txt'] = df.apply(lambda x: x['Company Name'] if x['Rating']<0 else x['Company Name'][:-3],axis = 1)\n",
    "df['company_txt'] = df['company_txt'].apply(lambda x: x.replace('\\r\\n',''))\n",
    "df['company_txt'][:3]"
   ]
  },
  {
   "cell_type": "code",
   "execution_count": 18,
   "metadata": {},
   "outputs": [
    {
     "data": {
      "text/plain": [
       "0    NM\n",
       "1    MD\n",
       "2    FL\n",
       "Name: job_state, dtype: object"
      ]
     },
     "execution_count": 18,
     "metadata": {},
     "output_type": "execute_result"
    }
   ],
   "source": [
    "df['job_state'] = df['Location'].apply(lambda x : x.split(',')[1])\n",
    "df['job_state'] = df['job_state'].apply(lambda x : x.strip() if  x.strip().lower() != 'los angeles' else 'CA')\n",
    "df['job_state'][:3]"
   ]
  },
  {
   "cell_type": "code",
   "execution_count": 19,
   "metadata": {},
   "outputs": [
    {
     "data": {
      "text/plain": [
       "0    0\n",
       "1    0\n",
       "2    1\n",
       "Name: same_state, dtype: int64"
      ]
     },
     "execution_count": 19,
     "metadata": {},
     "output_type": "execute_result"
    }
   ],
   "source": [
    "df['same_state'] = df.apply(lambda x: 1 if x.Location == x.Headquarters else 0,axis = 1)\n",
    "df['same_state'][:3]"
   ]
  },
  {
   "cell_type": "code",
   "execution_count": 20,
   "metadata": {},
   "outputs": [
    {
     "data": {
      "text/plain": [
       "0    47\n",
       "1    36\n",
       "2    10\n",
       "Name: age, dtype: int64"
      ]
     },
     "execution_count": 20,
     "metadata": {},
     "output_type": "execute_result"
    }
   ],
   "source": [
    "df['age'] = df.Founded.apply(lambda x: x if x < 1 else 2020 - x)\n",
    "df['age'][:3]"
   ]
  },
  {
   "cell_type": "markdown",
   "metadata": {},
   "source": [
    "We will try to find some key words in job description such as 'Python' , 'R studio' , 'spark' , 'asw' , 'excel' and consider it as a new feature"
   ]
  },
  {
   "cell_type": "code",
   "execution_count": 21,
   "metadata": {},
   "outputs": [
    {
     "data": {
      "text/plain": [
       "1    392\n",
       "0    350\n",
       "Name: python_yn, dtype: int64"
      ]
     },
     "execution_count": 21,
     "metadata": {},
     "output_type": "execute_result"
    }
   ],
   "source": [
    "df['python_yn'] = df['Job Description'].apply(lambda x: 1 if 'python' in x.lower() else 0)\n",
    "df['python_yn'].value_counts()"
   ]
  },
  {
   "cell_type": "code",
   "execution_count": 22,
   "metadata": {},
   "outputs": [
    {
     "data": {
      "text/plain": [
       "0    740\n",
       "1      2\n",
       "Name: R_yn, dtype: int64"
      ]
     },
     "execution_count": 22,
     "metadata": {},
     "output_type": "execute_result"
    }
   ],
   "source": [
    "df['R_yn'] = df['Job Description'].apply(lambda x: 1 if 'r studio'  in x.lower() or 'r-studio' in x.lower() else 0)\n",
    "df['R_yn'].value_counts()"
   ]
  },
  {
   "cell_type": "code",
   "execution_count": 23,
   "metadata": {},
   "outputs": [
    {
     "data": {
      "text/plain": [
       "0    575\n",
       "1    167\n",
       "Name: spark, dtype: int64"
      ]
     },
     "execution_count": 23,
     "metadata": {},
     "output_type": "execute_result"
    }
   ],
   "source": [
    "df['spark'] = df['Job Description'].apply(lambda x: 1 if 'spark'  in x.lower()  else 0)\n",
    "df['spark'].value_counts()"
   ]
  },
  {
   "cell_type": "code",
   "execution_count": 24,
   "metadata": {},
   "outputs": [
    {
     "data": {
      "text/plain": [
       "0    566\n",
       "1    176\n",
       "Name: aws, dtype: int64"
      ]
     },
     "execution_count": 24,
     "metadata": {},
     "output_type": "execute_result"
    }
   ],
   "source": [
    "df['aws'] = df['Job Description'].apply(lambda x: 1 if 'aws'  in x.lower()  else 0)\n",
    "df['aws'].value_counts()"
   ]
  },
  {
   "cell_type": "code",
   "execution_count": 25,
   "metadata": {},
   "outputs": [
    {
     "data": {
      "text/plain": [
       "1    388\n",
       "0    354\n",
       "Name: excel, dtype: int64"
      ]
     },
     "execution_count": 25,
     "metadata": {},
     "output_type": "execute_result"
    }
   ],
   "source": [
    "df['excel'] = df['Job Description'].apply(lambda x: 1 if 'excel'  in x.lower()  else 0)\n",
    "df['excel'].value_counts()"
   ]
  },
  {
   "cell_type": "markdown",
   "metadata": {},
   "source": [
    "One can make feautres for job title such that 'data scientist' , 'data engineer' , 'analyst' , 'machine learning', 'manager' or 'director'"
   ]
  },
  {
   "cell_type": "code",
   "execution_count": 26,
   "metadata": {},
   "outputs": [],
   "source": [
    "def title_simplifir(title):\n",
    "    if 'data scientist' in title.lower():\n",
    "        return 'data scientist'\n",
    "    elif 'data engineer' in title.lower():\n",
    "        return 'data engineer'\n",
    "    elif 'analyst' in title.lower():\n",
    "        return 'analyst'\n",
    "    elif 'machine learning' in title.lower():\n",
    "        return 'mle'\n",
    "    elif 'manager' in title.lower():\n",
    "        return 'manager'\n",
    "    elif 'director' in title.lower():\n",
    "        return 'director'\n",
    "    else:\n",
    "        return 'na'"
   ]
  },
  {
   "cell_type": "markdown",
   "metadata": {},
   "source": [
    "One can make feautres based on seniority from given prefix such that 'sr' , 'lead' , 'principal' or 'jr'"
   ]
  },
  {
   "cell_type": "code",
   "execution_count": 27,
   "metadata": {},
   "outputs": [],
   "source": [
    "def seniority(title):\n",
    "    if 'sr' in title.lower() or 'senior' in title.lower() or 'lead' in title.lower() or 'principal' in title.lower():\n",
    "        return 'senior'\n",
    "    elif 'jr' in title.lower():\n",
    "        return 'junior'\n",
    "    else:\n",
    "        return 'na'"
   ]
  },
  {
   "cell_type": "code",
   "execution_count": 28,
   "metadata": {},
   "outputs": [],
   "source": [
    "df['job_simplified'] = df['Job Title'].apply(title_simplifir)"
   ]
  },
  {
   "cell_type": "code",
   "execution_count": 29,
   "metadata": {},
   "outputs": [],
   "source": [
    "df['seniority'] = df['Job Title'].apply(seniority)"
   ]
  },
  {
   "cell_type": "markdown",
   "metadata": {},
   "source": [
    "One can use the length of job description as a feature"
   ]
  },
  {
   "cell_type": "code",
   "execution_count": 30,
   "metadata": {},
   "outputs": [],
   "source": [
    "df['desc_len'] = df['Job Description'].apply(lambda x:len(x))"
   ]
  },
  {
   "cell_type": "markdown",
   "metadata": {},
   "source": [
    "Number of competitors also can be a feature"
   ]
  },
  {
   "cell_type": "code",
   "execution_count": 31,
   "metadata": {},
   "outputs": [],
   "source": [
    "df['num_comp'] = df['Competitors'].apply(lambda x: len(x.split(',')) if x != '-1' else 0) "
   ]
  },
  {
   "cell_type": "code",
   "execution_count": 32,
   "metadata": {},
   "outputs": [
    {
     "data": {
      "text/html": [
       "<div>\n",
       "<style scoped>\n",
       "    .dataframe tbody tr th:only-of-type {\n",
       "        vertical-align: middle;\n",
       "    }\n",
       "\n",
       "    .dataframe tbody tr th {\n",
       "        vertical-align: top;\n",
       "    }\n",
       "\n",
       "    .dataframe thead th {\n",
       "        text-align: right;\n",
       "    }\n",
       "</style>\n",
       "<table border=\"1\" class=\"dataframe\">\n",
       "  <thead>\n",
       "    <tr style=\"text-align: right;\">\n",
       "      <th></th>\n",
       "      <th>Job Title</th>\n",
       "      <th>Salary Estimate</th>\n",
       "      <th>Job Description</th>\n",
       "      <th>Rating</th>\n",
       "      <th>Company Name</th>\n",
       "      <th>Location</th>\n",
       "      <th>Headquarters</th>\n",
       "      <th>Size</th>\n",
       "      <th>Founded</th>\n",
       "      <th>Type of ownership</th>\n",
       "      <th>...</th>\n",
       "      <th>age</th>\n",
       "      <th>python_yn</th>\n",
       "      <th>R_yn</th>\n",
       "      <th>spark</th>\n",
       "      <th>aws</th>\n",
       "      <th>excel</th>\n",
       "      <th>job_simplified</th>\n",
       "      <th>seniority</th>\n",
       "      <th>desc_len</th>\n",
       "      <th>num_comp</th>\n",
       "    </tr>\n",
       "  </thead>\n",
       "  <tbody>\n",
       "    <tr>\n",
       "      <td>0</td>\n",
       "      <td>Data Scientist</td>\n",
       "      <td>$53K-$91K (Glassdoor est.)</td>\n",
       "      <td>Data Scientist\\r\\nLocation: Albuquerque, NM\\r\\...</td>\n",
       "      <td>3.8</td>\n",
       "      <td>Tecolote Research\\r\\n3.8</td>\n",
       "      <td>Albuquerque, NM</td>\n",
       "      <td>Goleta, CA</td>\n",
       "      <td>501 to 1000 employees</td>\n",
       "      <td>1973</td>\n",
       "      <td>Company - Private</td>\n",
       "      <td>...</td>\n",
       "      <td>47</td>\n",
       "      <td>1</td>\n",
       "      <td>0</td>\n",
       "      <td>0</td>\n",
       "      <td>0</td>\n",
       "      <td>1</td>\n",
       "      <td>data scientist</td>\n",
       "      <td>na</td>\n",
       "      <td>2555</td>\n",
       "      <td>0</td>\n",
       "    </tr>\n",
       "    <tr>\n",
       "      <td>1</td>\n",
       "      <td>Healthcare Data Scientist</td>\n",
       "      <td>$63K-$112K (Glassdoor est.)</td>\n",
       "      <td>What You Will Do:\\r\\n\\r\\nI. General Summary\\r\\...</td>\n",
       "      <td>3.4</td>\n",
       "      <td>University of Maryland Medical System\\r\\n3.4</td>\n",
       "      <td>Linthicum, MD</td>\n",
       "      <td>Baltimore, MD</td>\n",
       "      <td>10000+ employees</td>\n",
       "      <td>1984</td>\n",
       "      <td>Other Organization</td>\n",
       "      <td>...</td>\n",
       "      <td>36</td>\n",
       "      <td>1</td>\n",
       "      <td>0</td>\n",
       "      <td>0</td>\n",
       "      <td>0</td>\n",
       "      <td>0</td>\n",
       "      <td>data scientist</td>\n",
       "      <td>na</td>\n",
       "      <td>4828</td>\n",
       "      <td>0</td>\n",
       "    </tr>\n",
       "    <tr>\n",
       "      <td>2</td>\n",
       "      <td>Data Scientist</td>\n",
       "      <td>$80K-$90K (Glassdoor est.)</td>\n",
       "      <td>KnowBe4, Inc. is a high growth information sec...</td>\n",
       "      <td>4.8</td>\n",
       "      <td>KnowBe4\\r\\n4.8</td>\n",
       "      <td>Clearwater, FL</td>\n",
       "      <td>Clearwater, FL</td>\n",
       "      <td>501 to 1000 employees</td>\n",
       "      <td>2010</td>\n",
       "      <td>Company - Private</td>\n",
       "      <td>...</td>\n",
       "      <td>10</td>\n",
       "      <td>1</td>\n",
       "      <td>0</td>\n",
       "      <td>1</td>\n",
       "      <td>0</td>\n",
       "      <td>1</td>\n",
       "      <td>data scientist</td>\n",
       "      <td>na</td>\n",
       "      <td>3495</td>\n",
       "      <td>0</td>\n",
       "    </tr>\n",
       "    <tr>\n",
       "      <td>3</td>\n",
       "      <td>Data Scientist</td>\n",
       "      <td>$56K-$97K (Glassdoor est.)</td>\n",
       "      <td>*Organization and Job ID**\\r\\nJob ID: 310709\\r...</td>\n",
       "      <td>3.8</td>\n",
       "      <td>PNNL\\r\\n3.8</td>\n",
       "      <td>Richland, WA</td>\n",
       "      <td>Richland, WA</td>\n",
       "      <td>1001 to 5000 employees</td>\n",
       "      <td>1965</td>\n",
       "      <td>Government</td>\n",
       "      <td>...</td>\n",
       "      <td>55</td>\n",
       "      <td>1</td>\n",
       "      <td>0</td>\n",
       "      <td>0</td>\n",
       "      <td>0</td>\n",
       "      <td>0</td>\n",
       "      <td>data scientist</td>\n",
       "      <td>na</td>\n",
       "      <td>3926</td>\n",
       "      <td>3</td>\n",
       "    </tr>\n",
       "    <tr>\n",
       "      <td>4</td>\n",
       "      <td>Data Scientist</td>\n",
       "      <td>$86K-$143K (Glassdoor est.)</td>\n",
       "      <td>Data Scientist\\r\\nAffinity Solutions / Marketi...</td>\n",
       "      <td>2.9</td>\n",
       "      <td>Affinity Solutions\\r\\n2.9</td>\n",
       "      <td>New York, NY</td>\n",
       "      <td>New York, NY</td>\n",
       "      <td>51 to 200 employees</td>\n",
       "      <td>1998</td>\n",
       "      <td>Company - Private</td>\n",
       "      <td>...</td>\n",
       "      <td>22</td>\n",
       "      <td>1</td>\n",
       "      <td>0</td>\n",
       "      <td>0</td>\n",
       "      <td>0</td>\n",
       "      <td>1</td>\n",
       "      <td>data scientist</td>\n",
       "      <td>na</td>\n",
       "      <td>2748</td>\n",
       "      <td>3</td>\n",
       "    </tr>\n",
       "  </tbody>\n",
       "</table>\n",
       "<p>5 rows × 32 columns</p>\n",
       "</div>"
      ],
      "text/plain": [
       "                   Job Title              Salary Estimate  \\\n",
       "0             Data Scientist   $53K-$91K (Glassdoor est.)   \n",
       "1  Healthcare Data Scientist  $63K-$112K (Glassdoor est.)   \n",
       "2             Data Scientist   $80K-$90K (Glassdoor est.)   \n",
       "3             Data Scientist   $56K-$97K (Glassdoor est.)   \n",
       "4             Data Scientist  $86K-$143K (Glassdoor est.)   \n",
       "\n",
       "                                     Job Description  Rating  \\\n",
       "0  Data Scientist\\r\\nLocation: Albuquerque, NM\\r\\...     3.8   \n",
       "1  What You Will Do:\\r\\n\\r\\nI. General Summary\\r\\...     3.4   \n",
       "2  KnowBe4, Inc. is a high growth information sec...     4.8   \n",
       "3  *Organization and Job ID**\\r\\nJob ID: 310709\\r...     3.8   \n",
       "4  Data Scientist\\r\\nAffinity Solutions / Marketi...     2.9   \n",
       "\n",
       "                                   Company Name         Location  \\\n",
       "0                      Tecolote Research\\r\\n3.8  Albuquerque, NM   \n",
       "1  University of Maryland Medical System\\r\\n3.4    Linthicum, MD   \n",
       "2                                KnowBe4\\r\\n4.8   Clearwater, FL   \n",
       "3                                   PNNL\\r\\n3.8     Richland, WA   \n",
       "4                     Affinity Solutions\\r\\n2.9     New York, NY   \n",
       "\n",
       "     Headquarters                    Size  Founded   Type of ownership  ...  \\\n",
       "0      Goleta, CA   501 to 1000 employees     1973   Company - Private  ...   \n",
       "1   Baltimore, MD        10000+ employees     1984  Other Organization  ...   \n",
       "2  Clearwater, FL   501 to 1000 employees     2010   Company - Private  ...   \n",
       "3    Richland, WA  1001 to 5000 employees     1965          Government  ...   \n",
       "4    New York, NY     51 to 200 employees     1998   Company - Private  ...   \n",
       "\n",
       "  age python_yn R_yn spark  aws  excel  job_simplified  seniority  desc_len  \\\n",
       "0  47         1    0     0    0      1  data scientist         na      2555   \n",
       "1  36         1    0     0    0      0  data scientist         na      4828   \n",
       "2  10         1    0     1    0      1  data scientist         na      3495   \n",
       "3  55         1    0     0    0      0  data scientist         na      3926   \n",
       "4  22         1    0     0    0      1  data scientist         na      2748   \n",
       "\n",
       "  num_comp  \n",
       "0        0  \n",
       "1        0  \n",
       "2        0  \n",
       "3        3  \n",
       "4        3  \n",
       "\n",
       "[5 rows x 32 columns]"
      ]
     },
     "execution_count": 32,
     "metadata": {},
     "output_type": "execute_result"
    }
   ],
   "source": [
    "df.head()"
   ]
  },
  {
   "cell_type": "code",
   "execution_count": 33,
   "metadata": {},
   "outputs": [
    {
     "data": {
      "text/plain": [
       "Job Title             object\n",
       "Salary Estimate       object\n",
       "Job Description       object\n",
       "Rating               float64\n",
       "Company Name          object\n",
       "Location              object\n",
       "Headquarters          object\n",
       "Size                  object\n",
       "Founded                int64\n",
       "Type of ownership     object\n",
       "Industry              object\n",
       "Sector                object\n",
       "Revenue               object\n",
       "Competitors           object\n",
       "hourly                 int64\n",
       "employer_provided      int64\n",
       "min_salary             int64\n",
       "max_salary             int64\n",
       "avg_salary           float64\n",
       "company_txt           object\n",
       "job_state             object\n",
       "same_state             int64\n",
       "age                    int64\n",
       "python_yn              int64\n",
       "R_yn                   int64\n",
       "spark                  int64\n",
       "aws                    int64\n",
       "excel                  int64\n",
       "job_simplified        object\n",
       "seniority             object\n",
       "desc_len               int64\n",
       "num_comp               int64\n",
       "dtype: object"
      ]
     },
     "execution_count": 33,
     "metadata": {},
     "output_type": "execute_result"
    }
   ],
   "source": [
    "df.dtypes"
   ]
  },
  {
   "cell_type": "code",
   "execution_count": 34,
   "metadata": {},
   "outputs": [
    {
     "data": {
      "text/html": [
       "<div>\n",
       "<style scoped>\n",
       "    .dataframe tbody tr th:only-of-type {\n",
       "        vertical-align: middle;\n",
       "    }\n",
       "\n",
       "    .dataframe tbody tr th {\n",
       "        vertical-align: top;\n",
       "    }\n",
       "\n",
       "    .dataframe thead th {\n",
       "        text-align: right;\n",
       "    }\n",
       "</style>\n",
       "<table border=\"1\" class=\"dataframe\">\n",
       "  <thead>\n",
       "    <tr style=\"text-align: right;\">\n",
       "      <th></th>\n",
       "      <th>Rating</th>\n",
       "      <th>Founded</th>\n",
       "      <th>hourly</th>\n",
       "      <th>employer_provided</th>\n",
       "      <th>min_salary</th>\n",
       "      <th>max_salary</th>\n",
       "      <th>avg_salary</th>\n",
       "      <th>same_state</th>\n",
       "      <th>age</th>\n",
       "      <th>python_yn</th>\n",
       "      <th>R_yn</th>\n",
       "      <th>spark</th>\n",
       "      <th>aws</th>\n",
       "      <th>excel</th>\n",
       "      <th>desc_len</th>\n",
       "      <th>num_comp</th>\n",
       "    </tr>\n",
       "  </thead>\n",
       "  <tbody>\n",
       "    <tr>\n",
       "      <td>count</td>\n",
       "      <td>742.000000</td>\n",
       "      <td>742.000000</td>\n",
       "      <td>742.000000</td>\n",
       "      <td>742.000000</td>\n",
       "      <td>742.000000</td>\n",
       "      <td>742.000000</td>\n",
       "      <td>742.000000</td>\n",
       "      <td>742.000000</td>\n",
       "      <td>742.000000</td>\n",
       "      <td>742.000000</td>\n",
       "      <td>742.000000</td>\n",
       "      <td>742.000000</td>\n",
       "      <td>742.000000</td>\n",
       "      <td>742.000000</td>\n",
       "      <td>742.000000</td>\n",
       "      <td>742.000000</td>\n",
       "    </tr>\n",
       "    <tr>\n",
       "      <td>mean</td>\n",
       "      <td>3.618868</td>\n",
       "      <td>1837.154987</td>\n",
       "      <td>0.032345</td>\n",
       "      <td>0.022911</td>\n",
       "      <td>74.719677</td>\n",
       "      <td>128.149596</td>\n",
       "      <td>101.434636</td>\n",
       "      <td>0.557951</td>\n",
       "      <td>46.591644</td>\n",
       "      <td>0.528302</td>\n",
       "      <td>0.002695</td>\n",
       "      <td>0.225067</td>\n",
       "      <td>0.237197</td>\n",
       "      <td>0.522911</td>\n",
       "      <td>3910.172507</td>\n",
       "      <td>1.053908</td>\n",
       "    </tr>\n",
       "    <tr>\n",
       "      <td>std</td>\n",
       "      <td>0.801210</td>\n",
       "      <td>497.183763</td>\n",
       "      <td>0.177034</td>\n",
       "      <td>0.149721</td>\n",
       "      <td>30.980593</td>\n",
       "      <td>45.220324</td>\n",
       "      <td>37.546122</td>\n",
       "      <td>0.496965</td>\n",
       "      <td>53.778815</td>\n",
       "      <td>0.499535</td>\n",
       "      <td>0.051882</td>\n",
       "      <td>0.417908</td>\n",
       "      <td>0.425651</td>\n",
       "      <td>0.499812</td>\n",
       "      <td>1533.827777</td>\n",
       "      <td>1.384239</td>\n",
       "    </tr>\n",
       "    <tr>\n",
       "      <td>min</td>\n",
       "      <td>-1.000000</td>\n",
       "      <td>-1.000000</td>\n",
       "      <td>0.000000</td>\n",
       "      <td>0.000000</td>\n",
       "      <td>15.000000</td>\n",
       "      <td>16.000000</td>\n",
       "      <td>15.500000</td>\n",
       "      <td>0.000000</td>\n",
       "      <td>-1.000000</td>\n",
       "      <td>0.000000</td>\n",
       "      <td>0.000000</td>\n",
       "      <td>0.000000</td>\n",
       "      <td>0.000000</td>\n",
       "      <td>0.000000</td>\n",
       "      <td>407.000000</td>\n",
       "      <td>0.000000</td>\n",
       "    </tr>\n",
       "    <tr>\n",
       "      <td>25%</td>\n",
       "      <td>3.300000</td>\n",
       "      <td>1939.000000</td>\n",
       "      <td>0.000000</td>\n",
       "      <td>0.000000</td>\n",
       "      <td>52.000000</td>\n",
       "      <td>96.000000</td>\n",
       "      <td>73.500000</td>\n",
       "      <td>0.000000</td>\n",
       "      <td>11.000000</td>\n",
       "      <td>0.000000</td>\n",
       "      <td>0.000000</td>\n",
       "      <td>0.000000</td>\n",
       "      <td>0.000000</td>\n",
       "      <td>0.000000</td>\n",
       "      <td>2834.000000</td>\n",
       "      <td>0.000000</td>\n",
       "    </tr>\n",
       "    <tr>\n",
       "      <td>50%</td>\n",
       "      <td>3.700000</td>\n",
       "      <td>1988.000000</td>\n",
       "      <td>0.000000</td>\n",
       "      <td>0.000000</td>\n",
       "      <td>69.500000</td>\n",
       "      <td>124.000000</td>\n",
       "      <td>97.500000</td>\n",
       "      <td>1.000000</td>\n",
       "      <td>24.000000</td>\n",
       "      <td>1.000000</td>\n",
       "      <td>0.000000</td>\n",
       "      <td>0.000000</td>\n",
       "      <td>0.000000</td>\n",
       "      <td>1.000000</td>\n",
       "      <td>3781.500000</td>\n",
       "      <td>0.000000</td>\n",
       "    </tr>\n",
       "    <tr>\n",
       "      <td>75%</td>\n",
       "      <td>4.000000</td>\n",
       "      <td>2007.000000</td>\n",
       "      <td>0.000000</td>\n",
       "      <td>0.000000</td>\n",
       "      <td>91.000000</td>\n",
       "      <td>155.000000</td>\n",
       "      <td>122.500000</td>\n",
       "      <td>1.000000</td>\n",
       "      <td>59.000000</td>\n",
       "      <td>1.000000</td>\n",
       "      <td>0.000000</td>\n",
       "      <td>0.000000</td>\n",
       "      <td>0.000000</td>\n",
       "      <td>1.000000</td>\n",
       "      <td>4772.000000</td>\n",
       "      <td>3.000000</td>\n",
       "    </tr>\n",
       "    <tr>\n",
       "      <td>max</td>\n",
       "      <td>5.000000</td>\n",
       "      <td>2019.000000</td>\n",
       "      <td>1.000000</td>\n",
       "      <td>1.000000</td>\n",
       "      <td>202.000000</td>\n",
       "      <td>306.000000</td>\n",
       "      <td>254.000000</td>\n",
       "      <td>1.000000</td>\n",
       "      <td>276.000000</td>\n",
       "      <td>1.000000</td>\n",
       "      <td>1.000000</td>\n",
       "      <td>1.000000</td>\n",
       "      <td>1.000000</td>\n",
       "      <td>1.000000</td>\n",
       "      <td>10146.000000</td>\n",
       "      <td>4.000000</td>\n",
       "    </tr>\n",
       "  </tbody>\n",
       "</table>\n",
       "</div>"
      ],
      "text/plain": [
       "           Rating      Founded      hourly  employer_provided  min_salary  \\\n",
       "count  742.000000   742.000000  742.000000         742.000000  742.000000   \n",
       "mean     3.618868  1837.154987    0.032345           0.022911   74.719677   \n",
       "std      0.801210   497.183763    0.177034           0.149721   30.980593   \n",
       "min     -1.000000    -1.000000    0.000000           0.000000   15.000000   \n",
       "25%      3.300000  1939.000000    0.000000           0.000000   52.000000   \n",
       "50%      3.700000  1988.000000    0.000000           0.000000   69.500000   \n",
       "75%      4.000000  2007.000000    0.000000           0.000000   91.000000   \n",
       "max      5.000000  2019.000000    1.000000           1.000000  202.000000   \n",
       "\n",
       "       max_salary  avg_salary  same_state         age   python_yn        R_yn  \\\n",
       "count  742.000000  742.000000  742.000000  742.000000  742.000000  742.000000   \n",
       "mean   128.149596  101.434636    0.557951   46.591644    0.528302    0.002695   \n",
       "std     45.220324   37.546122    0.496965   53.778815    0.499535    0.051882   \n",
       "min     16.000000   15.500000    0.000000   -1.000000    0.000000    0.000000   \n",
       "25%     96.000000   73.500000    0.000000   11.000000    0.000000    0.000000   \n",
       "50%    124.000000   97.500000    1.000000   24.000000    1.000000    0.000000   \n",
       "75%    155.000000  122.500000    1.000000   59.000000    1.000000    0.000000   \n",
       "max    306.000000  254.000000    1.000000  276.000000    1.000000    1.000000   \n",
       "\n",
       "            spark         aws       excel      desc_len    num_comp  \n",
       "count  742.000000  742.000000  742.000000    742.000000  742.000000  \n",
       "mean     0.225067    0.237197    0.522911   3910.172507    1.053908  \n",
       "std      0.417908    0.425651    0.499812   1533.827777    1.384239  \n",
       "min      0.000000    0.000000    0.000000    407.000000    0.000000  \n",
       "25%      0.000000    0.000000    0.000000   2834.000000    0.000000  \n",
       "50%      0.000000    0.000000    1.000000   3781.500000    0.000000  \n",
       "75%      0.000000    0.000000    1.000000   4772.000000    3.000000  \n",
       "max      1.000000    1.000000    1.000000  10146.000000    4.000000  "
      ]
     },
     "execution_count": 34,
     "metadata": {},
     "output_type": "execute_result"
    }
   ],
   "source": [
    "df.describe()"
   ]
  },
  {
   "cell_type": "markdown",
   "metadata": {},
   "source": [
    "#### Step 3:\n",
    "Exploratory Data Analysis"
   ]
  },
  {
   "cell_type": "markdown",
   "metadata": {},
   "source": [
    "First, We analyse the distribution of data over various numeric features (excluding features with binary outputs) using histogram and boxplot."
   ]
  },
  {
   "cell_type": "code",
   "execution_count": 35,
   "metadata": {},
   "outputs": [
    {
     "data": {
      "image/png": "[encoded data removed]",
      "text/plain": [
       "<Figure size 864x504 with 6 Axes>"
      ]
     },
     "metadata": {
      "needs_background": "light"
     },
     "output_type": "display_data"
    }
   ],
   "source": [
    "fig, axs = plt.subplots(2, 3,figsize=(12, 7),constrained_layout=True)\n",
    "axs[0,0].hist(df['Rating'],7)\n",
    "axs[0, 0].set_title('Rating')\n",
    "axs[0, 1].hist(df['avg_salary'],7)\n",
    "axs[0, 1].set_title('avg_salary')\n",
    "axs[0, 2].hist(df['age'],7)\n",
    "axs[0, 2].set_title('age')\n",
    "axs[1, 0].hist(df['desc_len'],7)\n",
    "axs[1, 0].set_title('desc_len')\n",
    "axs[1, 1].hist(df['num_comp'],5)\n",
    "axs[1, 1].set_title('num_comp')\n",
    "fig.delaxes(axs[1,2])"
   ]
  },
  {
   "cell_type": "markdown",
   "metadata": {},
   "source": [
    "In this histogram plot, we can observe that Rating, Avg_salary and desc_len have 'Normal Distribution', while age has  'Exponential Distribution'. Apart from that, value ranges in in the feature have big differences,for example sometimes 2000,4000...and sometimes 50,100,...To deal with this, we need to scale the data. "
   ]
  },
  {
   "cell_type": "code",
   "execution_count": 36,
   "metadata": {},
   "outputs": [
    {
     "data": {
      "image/png": "[encoded data removed]",
      "text/plain": [
       "<Figure size 864x504 with 6 Axes>"
      ]
     },
     "metadata": {
      "needs_background": "light"
     },
     "output_type": "display_data"
    }
   ],
   "source": [
    "fig, axs = plt.subplots(2, 3,figsize=(12, 7),constrained_layout=True)\n",
    "axs[0,0].boxplot(df['Rating'])\n",
    "axs[0, 0].set_title('Rating')\n",
    "axs[0, 1].boxplot(df['avg_salary'])\n",
    "axs[0, 1].set_title('avg_salary')\n",
    "axs[0, 2].boxplot(df['age'])\n",
    "axs[0, 2].set_title('age')\n",
    "axs[1, 0].boxplot(df['desc_len'])\n",
    "axs[1, 0].set_title('desc_len')\n",
    "axs[1, 1].boxplot(df['num_comp'])\n",
    "axs[1, 1].set_title('num_comp')\n",
    "fig.delaxes(axs[1,2])"
   ]
  },
  {
   "cell_type": "markdown",
   "metadata": {},
   "source": [
    "In this boxplot,we can observe that 'age' feature has so many outliers as compare to the others.  "
   ]
  },
  {
   "cell_type": "markdown",
   "metadata": {},
   "source": [
    "Second, we try to find the correlation among above features."
   ]
  },
  {
   "cell_type": "code",
   "execution_count": 37,
   "metadata": {},
   "outputs": [
    {
     "data": {
      "image/png": "[encoded data removed]",
      "text/plain": [
       "<Figure size 720x504 with 2 Axes>"
      ]
     },
     "metadata": {
      "needs_background": "light"
     },
     "output_type": "display_data"
    }
   ],
   "source": [
    "plt.figure(figsize=(10,7))\n",
    "g = sns.heatmap(df[['Rating','avg_salary','age','desc_len','num_comp']].corr(),annot=True,center=0,cmap='RdYlGn',annot_kws={\"size\": 10})\n",
    "# fix for mpl bug that cuts off top/bottom of seaborn viz\n",
    "b, t = plt.ylim() # discover the values for bottom and top\n",
    "b += 0.5 \n",
    "t -= 0.5 \n",
    "plt.ylim(b, t) \n",
    "plt.show()"
   ]
  },
  {
   "cell_type": "markdown",
   "metadata": {},
   "source": [
    "Third, Categorical features also should be analysed using Bar chart by value counts.\n",
    "For that, we will make seperate those in two different categories, one dataframe will contain features with less unique values(df_1) and other dataframe will contain features with more unique values(df_2).For df_2, I will show top 20 value counts of each feature just for better evaluation."
   ]
  },
  {
   "cell_type": "code",
   "execution_count": 38,
   "metadata": {},
   "outputs": [],
   "source": [
    "df_1 = df[['Size','Type of ownership','Sector', 'Revenue','same_state', 'python_yn', 'R_yn','spark', 'aws', 'excel', 'job_simplified', 'seniority']]\n",
    "df_2 = df[['Location', 'Headquarters', 'company_txt','Industry', 'job_state']]"
   ]
  },
  {
   "cell_type": "code",
   "execution_count": 39,
   "metadata": {},
   "outputs": [
    {
     "name": "stdout",
     "output_type": "stream",
     "text": [
      "graph for Size: total = 9\n"
     ]
    },
    {
     "data": {
      "image/png": "[encoded data removed]",
      "text/plain": [
       "<Figure size 432x288 with 1 Axes>"
      ]
     },
     "metadata": {
      "needs_background": "light"
     },
     "output_type": "display_data"
    },
    {
     "name": "stdout",
     "output_type": "stream",
     "text": [
      "graph for Type of ownership: total = 11\n"
     ]
    },
    {
     "data": {
      "image/png": "[encoded data removed]",
      "text/plain": [
       "<Figure size 432x288 with 1 Axes>"
      ]
     },
     "metadata": {
      "needs_background": "light"
     },
     "output_type": "display_data"
    },
    {
     "name": "stdout",
     "output_type": "stream",
     "text": [
      "graph for Sector: total = 25\n"
     ]
    },
    {
     "data": {
      "image/png": "[encoded data removed]",
      "text/plain": [
       "<Figure size 432x288 with 1 Axes>"
      ]
     },
     "metadata": {
      "needs_background": "light"
     },
     "output_type": "display_data"
    },
    {
     "name": "stdout",
     "output_type": "stream",
     "text": [
      "graph for Revenue: total = 14\n"
     ]
    },
    {
     "data": {
      "image/png": "[encoded data removed]",
      "text/plain": [
       "<Figure size 432x288 with 1 Axes>"
      ]
     },
     "metadata": {
      "needs_background": "light"
     },
     "output_type": "display_data"
    },
    {
     "name": "stdout",
     "output_type": "stream",
     "text": [
      "graph for same_state: total = 2\n"
     ]
    },
    {
     "data": {
      "image/png": "[encoded data removed]",
      "text/plain": [
       "<Figure size 432x288 with 1 Axes>"
      ]
     },
     "metadata": {
      "needs_background": "light"
     },
     "output_type": "display_data"
    },
    {
     "name": "stdout",
     "output_type": "stream",
     "text": [
      "graph for python_yn: total = 2\n"
     ]
    },
    {
     "data": {
      "image/png": "[encoded data removed]",
      "text/plain": [
       "<Figure size 432x288 with 1 Axes>"
      ]
     },
     "metadata": {
      "needs_background": "light"
     },
     "output_type": "display_data"
    },
    {
     "name": "stdout",
     "output_type": "stream",
     "text": [
      "graph for R_yn: total = 2\n"
     ]
    },
    {
     "data": {
      "image/png": "[encoded data removed]",
      "text/plain": [
       "<Figure size 432x288 with 1 Axes>"
      ]
     },
     "metadata": {
      "needs_background": "light"
     },
     "output_type": "display_data"
    },
    {
     "name": "stdout",
     "output_type": "stream",
     "text": [
      "graph for spark: total = 2\n"
     ]
    },
    {
     "data": {
      "image/png": "[encoded data removed]",
      "text/plain": [
       "<Figure size 432x288 with 1 Axes>"
      ]
     },
     "metadata": {
      "needs_background": "light"
     },
     "output_type": "display_data"
    },
    {
     "name": "stdout",
     "output_type": "stream",
     "text": [
      "graph for aws: total = 2\n"
     ]
    },
    {
     "data": {
      "image/png": "[encoded data removed]",
      "text/plain": [
       "<Figure size 432x288 with 1 Axes>"
      ]
     },
     "metadata": {
      "needs_background": "light"
     },
     "output_type": "display_data"
    },
    {
     "name": "stdout",
     "output_type": "stream",
     "text": [
      "graph for excel: total = 2\n"
     ]
    },
    {
     "data": {
      "image/png": "[encoded data removed]",
      "text/plain": [
       "<Figure size 432x288 with 1 Axes>"
      ]
     },
     "metadata": {
      "needs_background": "light"
     },
     "output_type": "display_data"
    },
    {
     "name": "stdout",
     "output_type": "stream",
     "text": [
      "graph for job_simplified: total = 7\n"
     ]
    },
    {
     "data": {
      "image/png": "[encoded data removed]",
      "text/plain": [
       "<Figure size 432x288 with 1 Axes>"
      ]
     },
     "metadata": {
      "needs_background": "light"
     },
     "output_type": "display_data"
    },
    {
     "name": "stdout",
     "output_type": "stream",
     "text": [
      "graph for seniority: total = 3\n"
     ]
    },
    {
     "data": {
      "image/png": "[encoded data removed]",
      "text/plain": [
       "<Figure size 432x288 with 1 Axes>"
      ]
     },
     "metadata": {
      "needs_background": "light"
     },
     "output_type": "display_data"
    }
   ],
   "source": [
    "for i in df_1.columns:\n",
    "    df_1_num = df_1[i].value_counts()\n",
    "    print(\"graph for %s: total = %d\" % (i, len(df_1_num)))\n",
    "    chart = sns.barplot(x=df_1_num.index, y=df_1_num)\n",
    "    chart.set_xticklabels(chart.get_xticklabels(), rotation=90)\n",
    "    plt.show()"
   ]
  },
  {
   "cell_type": "code",
   "execution_count": 40,
   "metadata": {},
   "outputs": [
    {
     "name": "stdout",
     "output_type": "stream",
     "text": [
      "graph for Location: total = 20\n"
     ]
    },
    {
     "data": {
      "image/png": "[encoded data removed]",
      "text/plain": [
       "<Figure size 432x288 with 1 Axes>"
      ]
     },
     "metadata": {
      "needs_background": "light"
     },
     "output_type": "display_data"
    },
    {
     "name": "stdout",
     "output_type": "stream",
     "text": [
      "graph for Headquarters: total = 20\n"
     ]
    },
    {
     "data": {
      "image/png": "[encoded data removed]",
      "text/plain": [
       "<Figure size 432x288 with 1 Axes>"
      ]
     },
     "metadata": {
      "needs_background": "light"
     },
     "output_type": "display_data"
    },
    {
     "name": "stdout",
     "output_type": "stream",
     "text": [
      "graph for company_txt: total = 20\n"
     ]
    },
    {
     "data": {
      "image/png": "[encoded data removed]",
      "text/plain": [
       "<Figure size 432x288 with 1 Axes>"
      ]
     },
     "metadata": {
      "needs_background": "light"
     },
     "output_type": "display_data"
    },
    {
     "name": "stdout",
     "output_type": "stream",
     "text": [
      "graph for Industry: total = 20\n"
     ]
    },
    {
     "data": {
      "image/png": "[encoded data removed]",
      "text/plain": [
       "<Figure size 432x288 with 1 Axes>"
      ]
     },
     "metadata": {
      "needs_background": "light"
     },
     "output_type": "display_data"
    },
    {
     "name": "stdout",
     "output_type": "stream",
     "text": [
      "graph for job_state: total = 20\n"
     ]
    },
    {
     "data": {
      "image/png": "[encoded data removed]",
      "text/plain": [
       "<Figure size 432x288 with 1 Axes>"
      ]
     },
     "metadata": {
      "needs_background": "light"
     },
     "output_type": "display_data"
    }
   ],
   "source": [
    "for i in df_2.columns:\n",
    "    cat_num = df_2[i].value_counts()[:20]\n",
    "    print(\"graph for %s: total = %d\" % (i, len(cat_num)))\n",
    "    chart = sns.barplot(x=cat_num.index, y=cat_num)\n",
    "    chart.set_xticklabels(chart.get_xticklabels(), rotation=90)\n",
    "    plt.show()"
   ]
  },
  {
   "cell_type": "markdown",
   "metadata": {},
   "source": [
    "Fourth , Compare the position and seniority level with average salary, so that we can understand the real world situation."
   ]
  },
  {
   "cell_type": "code",
   "execution_count": 41,
   "metadata": {
    "scrolled": false
   },
   "outputs": [
    {
     "data": {
      "text/html": [
       "<div>\n",
       "<style scoped>\n",
       "    .dataframe tbody tr th:only-of-type {\n",
       "        vertical-align: middle;\n",
       "    }\n",
       "\n",
       "    .dataframe tbody tr th {\n",
       "        vertical-align: top;\n",
       "    }\n",
       "\n",
       "    .dataframe thead th {\n",
       "        text-align: right;\n",
       "    }\n",
       "</style>\n",
       "<table border=\"1\" class=\"dataframe\">\n",
       "  <thead>\n",
       "    <tr style=\"text-align: right;\">\n",
       "      <th></th>\n",
       "      <th></th>\n",
       "      <th>avg_salary_x</th>\n",
       "      <th>avg_salary_y</th>\n",
       "    </tr>\n",
       "    <tr>\n",
       "      <th>job_simplified</th>\n",
       "      <th>seniority</th>\n",
       "      <th></th>\n",
       "      <th></th>\n",
       "    </tr>\n",
       "  </thead>\n",
       "  <tbody>\n",
       "    <tr>\n",
       "      <td rowspan=\"3\" valign=\"top\">analyst</td>\n",
       "      <td>junior</td>\n",
       "      <td>56.500000</td>\n",
       "      <td>1</td>\n",
       "    </tr>\n",
       "    <tr>\n",
       "      <td>na</td>\n",
       "      <td>61.155405</td>\n",
       "      <td>74</td>\n",
       "    </tr>\n",
       "    <tr>\n",
       "      <td>senior</td>\n",
       "      <td>80.092593</td>\n",
       "      <td>27</td>\n",
       "    </tr>\n",
       "    <tr>\n",
       "      <td rowspan=\"2\" valign=\"top\">data engineer</td>\n",
       "      <td>na</td>\n",
       "      <td>96.701220</td>\n",
       "      <td>82</td>\n",
       "    </tr>\n",
       "    <tr>\n",
       "      <td>senior</td>\n",
       "      <td>124.689189</td>\n",
       "      <td>37</td>\n",
       "    </tr>\n",
       "    <tr>\n",
       "      <td rowspan=\"3\" valign=\"top\">data scientist</td>\n",
       "      <td>junior</td>\n",
       "      <td>106.500000</td>\n",
       "      <td>1</td>\n",
       "    </tr>\n",
       "    <tr>\n",
       "      <td>na</td>\n",
       "      <td>107.043011</td>\n",
       "      <td>186</td>\n",
       "    </tr>\n",
       "    <tr>\n",
       "      <td>senior</td>\n",
       "      <td>138.956522</td>\n",
       "      <td>92</td>\n",
       "    </tr>\n",
       "    <tr>\n",
       "      <td>director</td>\n",
       "      <td>na</td>\n",
       "      <td>168.607143</td>\n",
       "      <td>14</td>\n",
       "    </tr>\n",
       "    <tr>\n",
       "      <td>manager</td>\n",
       "      <td>na</td>\n",
       "      <td>84.022727</td>\n",
       "      <td>22</td>\n",
       "    </tr>\n",
       "    <tr>\n",
       "      <td rowspan=\"2\" valign=\"top\">mle</td>\n",
       "      <td>na</td>\n",
       "      <td>119.133333</td>\n",
       "      <td>15</td>\n",
       "    </tr>\n",
       "    <tr>\n",
       "      <td>senior</td>\n",
       "      <td>142.071429</td>\n",
       "      <td>7</td>\n",
       "    </tr>\n",
       "    <tr>\n",
       "      <td rowspan=\"2\" valign=\"top\">na</td>\n",
       "      <td>na</td>\n",
       "      <td>78.500000</td>\n",
       "      <td>127</td>\n",
       "    </tr>\n",
       "    <tr>\n",
       "      <td>senior</td>\n",
       "      <td>109.061404</td>\n",
       "      <td>57</td>\n",
       "    </tr>\n",
       "  </tbody>\n",
       "</table>\n",
       "</div>"
      ],
      "text/plain": [
       "                          avg_salary_x  avg_salary_y\n",
       "job_simplified seniority                            \n",
       "analyst        junior        56.500000             1\n",
       "               na            61.155405            74\n",
       "               senior        80.092593            27\n",
       "data engineer  na            96.701220            82\n",
       "               senior       124.689189            37\n",
       "data scientist junior       106.500000             1\n",
       "               na           107.043011           186\n",
       "               senior       138.956522            92\n",
       "director       na           168.607143            14\n",
       "manager        na            84.022727            22\n",
       "mle            na           119.133333            15\n",
       "               senior       142.071429             7\n",
       "na             na            78.500000           127\n",
       "               senior       109.061404            57"
      ]
     },
     "execution_count": 41,
     "metadata": {},
     "output_type": "execute_result"
    }
   ],
   "source": [
    "table_1 = pd.pivot_table(df, index = ['job_simplified','seniority'], values = ['avg_salary'])\n",
    "table_2 = pd.pivot_table(df, index = ['job_simplified','seniority'], values = ['avg_salary'],aggfunc={'avg_salary': 'count'})\n",
    "table_3 = pd.merge(table_1, table_2, 'left', on = [\"job_simplified\", \"seniority\"] )\n",
    "table_3"
   ]
  },
  {
   "cell_type": "markdown",
   "metadata": {},
   "source": [
    "##### avg_salary_x = mean of salary , avg_salary_y = count"
   ]
  },
  {
   "cell_type": "markdown",
   "metadata": {},
   "source": [
    "From this table, we can compare various jobs with average salary and number of vacancies for that job"
   ]
  },
  {
   "cell_type": "markdown",
   "metadata": {},
   "source": [
    "Fifth, Compare the states with job role based on average salary and number of vacancies"
   ]
  },
  {
   "cell_type": "code",
   "execution_count": 42,
   "metadata": {},
   "outputs": [
    {
     "data": {
      "text/html": [
       "<div>\n",
       "<style scoped>\n",
       "    .dataframe tbody tr th:only-of-type {\n",
       "        vertical-align: middle;\n",
       "    }\n",
       "\n",
       "    .dataframe tbody tr th {\n",
       "        vertical-align: top;\n",
       "    }\n",
       "\n",
       "    .dataframe thead th {\n",
       "        text-align: right;\n",
       "    }\n",
       "</style>\n",
       "<table border=\"1\" class=\"dataframe\">\n",
       "  <thead>\n",
       "    <tr style=\"text-align: right;\">\n",
       "      <th></th>\n",
       "      <th></th>\n",
       "      <th>avg_salary_x</th>\n",
       "      <th>avg_salary_y</th>\n",
       "    </tr>\n",
       "    <tr>\n",
       "      <th>job_state</th>\n",
       "      <th>job_simplified</th>\n",
       "      <th></th>\n",
       "      <th></th>\n",
       "    </tr>\n",
       "  </thead>\n",
       "  <tbody>\n",
       "    <tr>\n",
       "      <td rowspan=\"3\" valign=\"top\">AL</td>\n",
       "      <td>analyst</td>\n",
       "      <td>62.200000</td>\n",
       "      <td>5</td>\n",
       "    </tr>\n",
       "    <tr>\n",
       "      <td>data engineer</td>\n",
       "      <td>65.000000</td>\n",
       "      <td>1</td>\n",
       "    </tr>\n",
       "    <tr>\n",
       "      <td>na</td>\n",
       "      <td>43.750000</td>\n",
       "      <td>2</td>\n",
       "    </tr>\n",
       "    <tr>\n",
       "      <td rowspan=\"4\" valign=\"top\">AZ</td>\n",
       "      <td>analyst</td>\n",
       "      <td>55.000000</td>\n",
       "      <td>1</td>\n",
       "    </tr>\n",
       "    <tr>\n",
       "      <td>data engineer</td>\n",
       "      <td>79.500000</td>\n",
       "      <td>5</td>\n",
       "    </tr>\n",
       "    <tr>\n",
       "      <td>data scientist</td>\n",
       "      <td>69.500000</td>\n",
       "      <td>1</td>\n",
       "    </tr>\n",
       "    <tr>\n",
       "      <td>na</td>\n",
       "      <td>124.500000</td>\n",
       "      <td>2</td>\n",
       "    </tr>\n",
       "    <tr>\n",
       "      <td rowspan=\"6\" valign=\"top\">CA</td>\n",
       "      <td>analyst</td>\n",
       "      <td>85.250000</td>\n",
       "      <td>18</td>\n",
       "    </tr>\n",
       "    <tr>\n",
       "      <td>data engineer</td>\n",
       "      <td>129.540000</td>\n",
       "      <td>25</td>\n",
       "    </tr>\n",
       "    <tr>\n",
       "      <td>data scientist</td>\n",
       "      <td>142.522059</td>\n",
       "      <td>68</td>\n",
       "    </tr>\n",
       "    <tr>\n",
       "      <td>manager</td>\n",
       "      <td>80.611111</td>\n",
       "      <td>9</td>\n",
       "    </tr>\n",
       "    <tr>\n",
       "      <td>mle</td>\n",
       "      <td>177.300000</td>\n",
       "      <td>5</td>\n",
       "    </tr>\n",
       "    <tr>\n",
       "      <td>na</td>\n",
       "      <td>99.907407</td>\n",
       "      <td>27</td>\n",
       "    </tr>\n",
       "    <tr>\n",
       "      <td rowspan=\"5\" valign=\"top\">CO</td>\n",
       "      <td>analyst</td>\n",
       "      <td>29.500000</td>\n",
       "      <td>1</td>\n",
       "    </tr>\n",
       "    <tr>\n",
       "      <td>data engineer</td>\n",
       "      <td>99.000000</td>\n",
       "      <td>3</td>\n",
       "    </tr>\n",
       "    <tr>\n",
       "      <td>data scientist</td>\n",
       "      <td>108.666667</td>\n",
       "      <td>3</td>\n",
       "    </tr>\n",
       "    <tr>\n",
       "      <td>mle</td>\n",
       "      <td>100.500000</td>\n",
       "      <td>1</td>\n",
       "    </tr>\n",
       "    <tr>\n",
       "      <td>na</td>\n",
       "      <td>63.000000</td>\n",
       "      <td>3</td>\n",
       "    </tr>\n",
       "    <tr>\n",
       "      <td rowspan=\"2\" valign=\"top\">CT</td>\n",
       "      <td>data scientist</td>\n",
       "      <td>84.000000</td>\n",
       "      <td>2</td>\n",
       "    </tr>\n",
       "    <tr>\n",
       "      <td>na</td>\n",
       "      <td>62.500000</td>\n",
       "      <td>3</td>\n",
       "    </tr>\n",
       "    <tr>\n",
       "      <td rowspan=\"3\" valign=\"top\">DC</td>\n",
       "      <td>analyst</td>\n",
       "      <td>63.500000</td>\n",
       "      <td>2</td>\n",
       "    </tr>\n",
       "    <tr>\n",
       "      <td>data engineer</td>\n",
       "      <td>85.000000</td>\n",
       "      <td>4</td>\n",
       "    </tr>\n",
       "    <tr>\n",
       "      <td>data scientist</td>\n",
       "      <td>149.000000</td>\n",
       "      <td>5</td>\n",
       "    </tr>\n",
       "    <tr>\n",
       "      <td>DE</td>\n",
       "      <td>na</td>\n",
       "      <td>55.000000</td>\n",
       "      <td>6</td>\n",
       "    </tr>\n",
       "    <tr>\n",
       "      <td rowspan=\"3\" valign=\"top\">FL</td>\n",
       "      <td>analyst</td>\n",
       "      <td>47.500000</td>\n",
       "      <td>6</td>\n",
       "    </tr>\n",
       "    <tr>\n",
       "      <td>data engineer</td>\n",
       "      <td>91.833333</td>\n",
       "      <td>3</td>\n",
       "    </tr>\n",
       "    <tr>\n",
       "      <td>data scientist</td>\n",
       "      <td>97.357143</td>\n",
       "      <td>7</td>\n",
       "    </tr>\n",
       "    <tr>\n",
       "      <td rowspan=\"2\" valign=\"top\">GA</td>\n",
       "      <td>data scientist</td>\n",
       "      <td>81.333333</td>\n",
       "      <td>3</td>\n",
       "    </tr>\n",
       "    <tr>\n",
       "      <td>na</td>\n",
       "      <td>80.000000</td>\n",
       "      <td>3</td>\n",
       "    </tr>\n",
       "    <tr>\n",
       "      <td rowspan=\"2\" valign=\"top\">IA</td>\n",
       "      <td>analyst</td>\n",
       "      <td>43.000000</td>\n",
       "      <td>2</td>\n",
       "    </tr>\n",
       "    <tr>\n",
       "      <td>data engineer</td>\n",
       "      <td>102.833333</td>\n",
       "      <td>3</td>\n",
       "    </tr>\n",
       "    <tr>\n",
       "      <td>ID</td>\n",
       "      <td>analyst</td>\n",
       "      <td>56.250000</td>\n",
       "      <td>2</td>\n",
       "    </tr>\n",
       "    <tr>\n",
       "      <td rowspan=\"6\" valign=\"top\">IL</td>\n",
       "      <td>analyst</td>\n",
       "      <td>66.500000</td>\n",
       "      <td>3</td>\n",
       "    </tr>\n",
       "    <tr>\n",
       "      <td>data engineer</td>\n",
       "      <td>96.125000</td>\n",
       "      <td>8</td>\n",
       "    </tr>\n",
       "    <tr>\n",
       "      <td>data scientist</td>\n",
       "      <td>117.233333</td>\n",
       "      <td>15</td>\n",
       "    </tr>\n",
       "    <tr>\n",
       "      <td>director</td>\n",
       "      <td>221.750000</td>\n",
       "      <td>6</td>\n",
       "    </tr>\n",
       "    <tr>\n",
       "      <td>mle</td>\n",
       "      <td>133.000000</td>\n",
       "      <td>2</td>\n",
       "    </tr>\n",
       "    <tr>\n",
       "      <td>na</td>\n",
       "      <td>57.166667</td>\n",
       "      <td>6</td>\n",
       "    </tr>\n",
       "    <tr>\n",
       "      <td rowspan=\"3\" valign=\"top\">IN</td>\n",
       "      <td>data engineer</td>\n",
       "      <td>114.500000</td>\n",
       "      <td>4</td>\n",
       "    </tr>\n",
       "    <tr>\n",
       "      <td>data scientist</td>\n",
       "      <td>84.500000</td>\n",
       "      <td>2</td>\n",
       "    </tr>\n",
       "    <tr>\n",
       "      <td>na</td>\n",
       "      <td>69.000000</td>\n",
       "      <td>4</td>\n",
       "    </tr>\n",
       "    <tr>\n",
       "      <td>KS</td>\n",
       "      <td>mle</td>\n",
       "      <td>87.000000</td>\n",
       "      <td>3</td>\n",
       "    </tr>\n",
       "    <tr>\n",
       "      <td rowspan=\"2\" valign=\"top\">KY</td>\n",
       "      <td>data scientist</td>\n",
       "      <td>84.000000</td>\n",
       "      <td>2</td>\n",
       "    </tr>\n",
       "    <tr>\n",
       "      <td>na</td>\n",
       "      <td>103.500000</td>\n",
       "      <td>4</td>\n",
       "    </tr>\n",
       "    <tr>\n",
       "      <td rowspan=\"3\" valign=\"top\">LA</td>\n",
       "      <td>analyst</td>\n",
       "      <td>48.000000</td>\n",
       "      <td>1</td>\n",
       "    </tr>\n",
       "    <tr>\n",
       "      <td>data engineer</td>\n",
       "      <td>70.500000</td>\n",
       "      <td>2</td>\n",
       "    </tr>\n",
       "    <tr>\n",
       "      <td>na</td>\n",
       "      <td>40.000000</td>\n",
       "      <td>1</td>\n",
       "    </tr>\n",
       "    <tr>\n",
       "      <td rowspan=\"6\" valign=\"top\">MA</td>\n",
       "      <td>analyst</td>\n",
       "      <td>59.125000</td>\n",
       "      <td>4</td>\n",
       "    </tr>\n",
       "    <tr>\n",
       "      <td>data engineer</td>\n",
       "      <td>107.291667</td>\n",
       "      <td>12</td>\n",
       "    </tr>\n",
       "    <tr>\n",
       "      <td>data scientist</td>\n",
       "      <td>113.750000</td>\n",
       "      <td>30</td>\n",
       "    </tr>\n",
       "    <tr>\n",
       "      <td>director</td>\n",
       "      <td>117.833333</td>\n",
       "      <td>6</td>\n",
       "    </tr>\n",
       "    <tr>\n",
       "      <td>manager</td>\n",
       "      <td>71.900000</td>\n",
       "      <td>5</td>\n",
       "    </tr>\n",
       "    <tr>\n",
       "      <td>na</td>\n",
       "      <td>110.010870</td>\n",
       "      <td>46</td>\n",
       "    </tr>\n",
       "    <tr>\n",
       "      <td rowspan=\"4\" valign=\"top\">MD</td>\n",
       "      <td>analyst</td>\n",
       "      <td>80.666667</td>\n",
       "      <td>3</td>\n",
       "    </tr>\n",
       "    <tr>\n",
       "      <td>data engineer</td>\n",
       "      <td>109.000000</td>\n",
       "      <td>3</td>\n",
       "    </tr>\n",
       "    <tr>\n",
       "      <td>data scientist</td>\n",
       "      <td>109.115385</td>\n",
       "      <td>13</td>\n",
       "    </tr>\n",
       "    <tr>\n",
       "      <td>na</td>\n",
       "      <td>88.750000</td>\n",
       "      <td>16</td>\n",
       "    </tr>\n",
       "    <tr>\n",
       "      <td rowspan=\"2\" valign=\"top\">MI</td>\n",
       "      <td>data scientist</td>\n",
       "      <td>106.625000</td>\n",
       "      <td>4</td>\n",
       "    </tr>\n",
       "    <tr>\n",
       "      <td>manager</td>\n",
       "      <td>87.500000</td>\n",
       "      <td>2</td>\n",
       "    </tr>\n",
       "    <tr>\n",
       "      <td rowspan=\"2\" valign=\"top\">MN</td>\n",
       "      <td>analyst</td>\n",
       "      <td>76.000000</td>\n",
       "      <td>1</td>\n",
       "    </tr>\n",
       "    <tr>\n",
       "      <td>data engineer</td>\n",
       "      <td>95.000000</td>\n",
       "      <td>1</td>\n",
       "    </tr>\n",
       "    <tr>\n",
       "      <td rowspan=\"4\" valign=\"top\">MO</td>\n",
       "      <td>analyst</td>\n",
       "      <td>61.000000</td>\n",
       "      <td>2</td>\n",
       "    </tr>\n",
       "    <tr>\n",
       "      <td>data scientist</td>\n",
       "      <td>127.666667</td>\n",
       "      <td>3</td>\n",
       "    </tr>\n",
       "    <tr>\n",
       "      <td>manager</td>\n",
       "      <td>40.500000</td>\n",
       "      <td>1</td>\n",
       "    </tr>\n",
       "    <tr>\n",
       "      <td>na</td>\n",
       "      <td>72.333333</td>\n",
       "      <td>3</td>\n",
       "    </tr>\n",
       "    <tr>\n",
       "      <td rowspan=\"3\" valign=\"top\">NC</td>\n",
       "      <td>data engineer</td>\n",
       "      <td>104.250000</td>\n",
       "      <td>6</td>\n",
       "    </tr>\n",
       "    <tr>\n",
       "      <td>data scientist</td>\n",
       "      <td>117.000000</td>\n",
       "      <td>3</td>\n",
       "    </tr>\n",
       "    <tr>\n",
       "      <td>na</td>\n",
       "      <td>90.916667</td>\n",
       "      <td>12</td>\n",
       "    </tr>\n",
       "    <tr>\n",
       "      <td>NE</td>\n",
       "      <td>na</td>\n",
       "      <td>53.500000</td>\n",
       "      <td>4</td>\n",
       "    </tr>\n",
       "    <tr>\n",
       "      <td rowspan=\"6\" valign=\"top\">NJ</td>\n",
       "      <td>analyst</td>\n",
       "      <td>83.583333</td>\n",
       "      <td>6</td>\n",
       "    </tr>\n",
       "    <tr>\n",
       "      <td>data engineer</td>\n",
       "      <td>112.000000</td>\n",
       "      <td>2</td>\n",
       "    </tr>\n",
       "    <tr>\n",
       "      <td>data scientist</td>\n",
       "      <td>106.875000</td>\n",
       "      <td>4</td>\n",
       "    </tr>\n",
       "    <tr>\n",
       "      <td>director</td>\n",
       "      <td>161.500000</td>\n",
       "      <td>2</td>\n",
       "    </tr>\n",
       "    <tr>\n",
       "      <td>manager</td>\n",
       "      <td>109.500000</td>\n",
       "      <td>2</td>\n",
       "    </tr>\n",
       "    <tr>\n",
       "      <td>na</td>\n",
       "      <td>82.500000</td>\n",
       "      <td>1</td>\n",
       "    </tr>\n",
       "    <tr>\n",
       "      <td>NM</td>\n",
       "      <td>data scientist</td>\n",
       "      <td>74.333333</td>\n",
       "      <td>3</td>\n",
       "    </tr>\n",
       "    <tr>\n",
       "      <td rowspan=\"5\" valign=\"top\">NY</td>\n",
       "      <td>analyst</td>\n",
       "      <td>65.607143</td>\n",
       "      <td>14</td>\n",
       "    </tr>\n",
       "    <tr>\n",
       "      <td>data engineer</td>\n",
       "      <td>86.375000</td>\n",
       "      <td>4</td>\n",
       "    </tr>\n",
       "    <tr>\n",
       "      <td>data scientist</td>\n",
       "      <td>115.250000</td>\n",
       "      <td>40</td>\n",
       "    </tr>\n",
       "    <tr>\n",
       "      <td>mle</td>\n",
       "      <td>125.000000</td>\n",
       "      <td>2</td>\n",
       "    </tr>\n",
       "    <tr>\n",
       "      <td>na</td>\n",
       "      <td>81.583333</td>\n",
       "      <td>12</td>\n",
       "    </tr>\n",
       "    <tr>\n",
       "      <td rowspan=\"3\" valign=\"top\">OH</td>\n",
       "      <td>analyst</td>\n",
       "      <td>53.875000</td>\n",
       "      <td>4</td>\n",
       "    </tr>\n",
       "    <tr>\n",
       "      <td>data scientist</td>\n",
       "      <td>105.285714</td>\n",
       "      <td>7</td>\n",
       "    </tr>\n",
       "    <tr>\n",
       "      <td>na</td>\n",
       "      <td>91.166667</td>\n",
       "      <td>3</td>\n",
       "    </tr>\n",
       "    <tr>\n",
       "      <td rowspan=\"2\" valign=\"top\">OR</td>\n",
       "      <td>data engineer</td>\n",
       "      <td>73.000000</td>\n",
       "      <td>1</td>\n",
       "    </tr>\n",
       "    <tr>\n",
       "      <td>data scientist</td>\n",
       "      <td>98.500000</td>\n",
       "      <td>3</td>\n",
       "    </tr>\n",
       "    <tr>\n",
       "      <td rowspan=\"6\" valign=\"top\">PA</td>\n",
       "      <td>analyst</td>\n",
       "      <td>62.750000</td>\n",
       "      <td>8</td>\n",
       "    </tr>\n",
       "    <tr>\n",
       "      <td>data engineer</td>\n",
       "      <td>91.500000</td>\n",
       "      <td>1</td>\n",
       "    </tr>\n",
       "    <tr>\n",
       "      <td>data scientist</td>\n",
       "      <td>113.333333</td>\n",
       "      <td>6</td>\n",
       "    </tr>\n",
       "    <tr>\n",
       "      <td>manager</td>\n",
       "      <td>109.666667</td>\n",
       "      <td>3</td>\n",
       "    </tr>\n",
       "    <tr>\n",
       "      <td>mle</td>\n",
       "      <td>120.500000</td>\n",
       "      <td>7</td>\n",
       "    </tr>\n",
       "    <tr>\n",
       "      <td>na</td>\n",
       "      <td>81.187500</td>\n",
       "      <td>8</td>\n",
       "    </tr>\n",
       "    <tr>\n",
       "      <td>RI</td>\n",
       "      <td>analyst</td>\n",
       "      <td>100.000000</td>\n",
       "      <td>1</td>\n",
       "    </tr>\n",
       "    <tr>\n",
       "      <td>SC</td>\n",
       "      <td>na</td>\n",
       "      <td>60.500000</td>\n",
       "      <td>1</td>\n",
       "    </tr>\n",
       "    <tr>\n",
       "      <td rowspan=\"3\" valign=\"top\">TN</td>\n",
       "      <td>analyst</td>\n",
       "      <td>27.000000</td>\n",
       "      <td>2</td>\n",
       "    </tr>\n",
       "    <tr>\n",
       "      <td>data engineer</td>\n",
       "      <td>100.950000</td>\n",
       "      <td>10</td>\n",
       "    </tr>\n",
       "    <tr>\n",
       "      <td>data scientist</td>\n",
       "      <td>96.000000</td>\n",
       "      <td>1</td>\n",
       "    </tr>\n",
       "    <tr>\n",
       "      <td rowspan=\"3\" valign=\"top\">TX</td>\n",
       "      <td>data engineer</td>\n",
       "      <td>113.062500</td>\n",
       "      <td>8</td>\n",
       "    </tr>\n",
       "    <tr>\n",
       "      <td>data scientist</td>\n",
       "      <td>100.730769</td>\n",
       "      <td>13</td>\n",
       "    </tr>\n",
       "    <tr>\n",
       "      <td>na</td>\n",
       "      <td>53.571429</td>\n",
       "      <td>7</td>\n",
       "    </tr>\n",
       "    <tr>\n",
       "      <td rowspan=\"3\" valign=\"top\">UT</td>\n",
       "      <td>analyst</td>\n",
       "      <td>54.750000</td>\n",
       "      <td>4</td>\n",
       "    </tr>\n",
       "    <tr>\n",
       "      <td>data engineer</td>\n",
       "      <td>100.333333</td>\n",
       "      <td>3</td>\n",
       "    </tr>\n",
       "    <tr>\n",
       "      <td>data scientist</td>\n",
       "      <td>140.500000</td>\n",
       "      <td>3</td>\n",
       "    </tr>\n",
       "    <tr>\n",
       "      <td rowspan=\"5\" valign=\"top\">VA</td>\n",
       "      <td>analyst</td>\n",
       "      <td>71.583333</td>\n",
       "      <td>6</td>\n",
       "    </tr>\n",
       "    <tr>\n",
       "      <td>data engineer</td>\n",
       "      <td>96.900000</td>\n",
       "      <td>10</td>\n",
       "    </tr>\n",
       "    <tr>\n",
       "      <td>data scientist</td>\n",
       "      <td>108.416667</td>\n",
       "      <td>18</td>\n",
       "    </tr>\n",
       "    <tr>\n",
       "      <td>mle</td>\n",
       "      <td>87.000000</td>\n",
       "      <td>2</td>\n",
       "    </tr>\n",
       "    <tr>\n",
       "      <td>na</td>\n",
       "      <td>79.300000</td>\n",
       "      <td>5</td>\n",
       "    </tr>\n",
       "    <tr>\n",
       "      <td rowspan=\"3\" valign=\"top\">WA</td>\n",
       "      <td>analyst</td>\n",
       "      <td>54.500000</td>\n",
       "      <td>3</td>\n",
       "    </tr>\n",
       "    <tr>\n",
       "      <td>data scientist</td>\n",
       "      <td>99.764706</td>\n",
       "      <td>17</td>\n",
       "    </tr>\n",
       "    <tr>\n",
       "      <td>na</td>\n",
       "      <td>97.500000</td>\n",
       "      <td>1</td>\n",
       "    </tr>\n",
       "    <tr>\n",
       "      <td rowspan=\"3\" valign=\"top\">WI</td>\n",
       "      <td>analyst</td>\n",
       "      <td>58.833333</td>\n",
       "      <td>3</td>\n",
       "    </tr>\n",
       "    <tr>\n",
       "      <td>data scientist</td>\n",
       "      <td>113.500000</td>\n",
       "      <td>3</td>\n",
       "    </tr>\n",
       "    <tr>\n",
       "      <td>na</td>\n",
       "      <td>54.000000</td>\n",
       "      <td>4</td>\n",
       "    </tr>\n",
       "  </tbody>\n",
       "</table>\n",
       "</div>"
      ],
      "text/plain": [
       "                          avg_salary_x  avg_salary_y\n",
       "job_state job_simplified                            \n",
       "AL        analyst            62.200000             5\n",
       "          data engineer      65.000000             1\n",
       "          na                 43.750000             2\n",
       "AZ        analyst            55.000000             1\n",
       "          data engineer      79.500000             5\n",
       "          data scientist     69.500000             1\n",
       "          na                124.500000             2\n",
       "CA        analyst            85.250000            18\n",
       "          data engineer     129.540000            25\n",
       "          data scientist    142.522059            68\n",
       "          manager            80.611111             9\n",
       "          mle               177.300000             5\n",
       "          na                 99.907407            27\n",
       "CO        analyst            29.500000             1\n",
       "          data engineer      99.000000             3\n",
       "          data scientist    108.666667             3\n",
       "          mle               100.500000             1\n",
       "          na                 63.000000             3\n",
       "CT        data scientist     84.000000             2\n",
       "          na                 62.500000             3\n",
       "DC        analyst            63.500000             2\n",
       "          data engineer      85.000000             4\n",
       "          data scientist    149.000000             5\n",
       "DE        na                 55.000000             6\n",
       "FL        analyst            47.500000             6\n",
       "          data engineer      91.833333             3\n",
       "          data scientist     97.357143             7\n",
       "GA        data scientist     81.333333             3\n",
       "          na                 80.000000             3\n",
       "IA        analyst            43.000000             2\n",
       "          data engineer     102.833333             3\n",
       "ID        analyst            56.250000             2\n",
       "IL        analyst            66.500000             3\n",
       "          data engineer      96.125000             8\n",
       "          data scientist    117.233333            15\n",
       "          director          221.750000             6\n",
       "          mle               133.000000             2\n",
       "          na                 57.166667             6\n",
       "IN        data engineer     114.500000             4\n",
       "          data scientist     84.500000             2\n",
       "          na                 69.000000             4\n",
       "KS        mle                87.000000             3\n",
       "KY        data scientist     84.000000             2\n",
       "          na                103.500000             4\n",
       "LA        analyst            48.000000             1\n",
       "          data engineer      70.500000             2\n",
       "          na                 40.000000             1\n",
       "MA        analyst            59.125000             4\n",
       "          data engineer     107.291667            12\n",
       "          data scientist    113.750000            30\n",
       "          director          117.833333             6\n",
       "          manager            71.900000             5\n",
       "          na                110.010870            46\n",
       "MD        analyst            80.666667             3\n",
       "          data engineer     109.000000             3\n",
       "          data scientist    109.115385            13\n",
       "          na                 88.750000            16\n",
       "MI        data scientist    106.625000             4\n",
       "          manager            87.500000             2\n",
       "MN        analyst            76.000000             1\n",
       "          data engineer      95.000000             1\n",
       "MO        analyst            61.000000             2\n",
       "          data scientist    127.666667             3\n",
       "          manager            40.500000             1\n",
       "          na                 72.333333             3\n",
       "NC        data engineer     104.250000             6\n",
       "          data scientist    117.000000             3\n",
       "          na                 90.916667            12\n",
       "NE        na                 53.500000             4\n",
       "NJ        analyst            83.583333             6\n",
       "          data engineer     112.000000             2\n",
       "          data scientist    106.875000             4\n",
       "          director          161.500000             2\n",
       "          manager           109.500000             2\n",
       "          na                 82.500000             1\n",
       "NM        data scientist     74.333333             3\n",
       "NY        analyst            65.607143            14\n",
       "          data engineer      86.375000             4\n",
       "          data scientist    115.250000            40\n",
       "          mle               125.000000             2\n",
       "          na                 81.583333            12\n",
       "OH        analyst            53.875000             4\n",
       "          data scientist    105.285714             7\n",
       "          na                 91.166667             3\n",
       "OR        data engineer      73.000000             1\n",
       "          data scientist     98.500000             3\n",
       "PA        analyst            62.750000             8\n",
       "          data engineer      91.500000             1\n",
       "          data scientist    113.333333             6\n",
       "          manager           109.666667             3\n",
       "          mle               120.500000             7\n",
       "          na                 81.187500             8\n",
       "RI        analyst           100.000000             1\n",
       "SC        na                 60.500000             1\n",
       "TN        analyst            27.000000             2\n",
       "          data engineer     100.950000            10\n",
       "          data scientist     96.000000             1\n",
       "TX        data engineer     113.062500             8\n",
       "          data scientist    100.730769            13\n",
       "          na                 53.571429             7\n",
       "UT        analyst            54.750000             4\n",
       "          data engineer     100.333333             3\n",
       "          data scientist    140.500000             3\n",
       "VA        analyst            71.583333             6\n",
       "          data engineer      96.900000            10\n",
       "          data scientist    108.416667            18\n",
       "          mle                87.000000             2\n",
       "          na                 79.300000             5\n",
       "WA        analyst            54.500000             3\n",
       "          data scientist     99.764706            17\n",
       "          na                 97.500000             1\n",
       "WI        analyst            58.833333             3\n",
       "          data scientist    113.500000             3\n",
       "          na                 54.000000             4"
      ]
     },
     "execution_count": 42,
     "metadata": {},
     "output_type": "execute_result"
    }
   ],
   "source": [
    "pd.options.display.max_rows\n",
    "pd.set_option('display.max_rows', None)\n",
    "table_4 = pd.pivot_table(df, index = ['job_state','job_simplified'], values = ['avg_salary'])\n",
    "table_5 = pd.pivot_table(df, index = ['job_state','job_simplified'], values = ['avg_salary'],aggfunc={'avg_salary': 'count'})\n",
    "table_6 = pd.merge(table_4, table_5, 'left', on = [\"job_state\", \"job_simplified\"])\n",
    "table_6"
   ]
  },
  {
   "cell_type": "markdown",
   "metadata": {},
   "source": [
    "It gives very detailed idea about the average salary for the different job role and number of vacancies for that in various states. "
   ]
  },
  {
   "cell_type": "markdown",
   "metadata": {},
   "source": [
    "Sixth, Let's find the top 10 salary giving states and top 10 number of vacancies for job role as data scientist."
   ]
  },
  {
   "cell_type": "code",
   "execution_count": 43,
   "metadata": {},
   "outputs": [],
   "source": [
    "table_7 = pd.pivot_table(df[df.job_simplified == 'data scientist'], index = 'job_state', values = 'avg_salary')\n",
    "table_8 = pd.pivot_table(df[df.job_simplified == 'data scientist'], index = 'job_state', values = 'avg_salary',aggfunc={'avg_salary': 'count'})\n",
    "table_9 = pd.merge(table_7, table_8, 'left', on = [\"job_state\"]).sort_values('avg_salary_x', ascending = False)"
   ]
  },
  {
   "cell_type": "code",
   "execution_count": 44,
   "metadata": {},
   "outputs": [
    {
     "data": {
      "text/html": [
       "<div>\n",
       "<style scoped>\n",
       "    .dataframe tbody tr th:only-of-type {\n",
       "        vertical-align: middle;\n",
       "    }\n",
       "\n",
       "    .dataframe tbody tr th {\n",
       "        vertical-align: top;\n",
       "    }\n",
       "\n",
       "    .dataframe thead th {\n",
       "        text-align: right;\n",
       "    }\n",
       "</style>\n",
       "<table border=\"1\" class=\"dataframe\">\n",
       "  <thead>\n",
       "    <tr style=\"text-align: right;\">\n",
       "      <th></th>\n",
       "      <th>avg_salary_x</th>\n",
       "      <th>avg_salary_y</th>\n",
       "    </tr>\n",
       "    <tr>\n",
       "      <th>job_state</th>\n",
       "      <th></th>\n",
       "      <th></th>\n",
       "    </tr>\n",
       "  </thead>\n",
       "  <tbody>\n",
       "    <tr>\n",
       "      <td>DC</td>\n",
       "      <td>149.000000</td>\n",
       "      <td>5</td>\n",
       "    </tr>\n",
       "    <tr>\n",
       "      <td>CA</td>\n",
       "      <td>142.522059</td>\n",
       "      <td>68</td>\n",
       "    </tr>\n",
       "    <tr>\n",
       "      <td>UT</td>\n",
       "      <td>140.500000</td>\n",
       "      <td>3</td>\n",
       "    </tr>\n",
       "    <tr>\n",
       "      <td>MO</td>\n",
       "      <td>127.666667</td>\n",
       "      <td>3</td>\n",
       "    </tr>\n",
       "    <tr>\n",
       "      <td>IL</td>\n",
       "      <td>117.233333</td>\n",
       "      <td>15</td>\n",
       "    </tr>\n",
       "    <tr>\n",
       "      <td>NC</td>\n",
       "      <td>117.000000</td>\n",
       "      <td>3</td>\n",
       "    </tr>\n",
       "    <tr>\n",
       "      <td>NY</td>\n",
       "      <td>115.250000</td>\n",
       "      <td>40</td>\n",
       "    </tr>\n",
       "    <tr>\n",
       "      <td>MA</td>\n",
       "      <td>113.750000</td>\n",
       "      <td>30</td>\n",
       "    </tr>\n",
       "    <tr>\n",
       "      <td>WI</td>\n",
       "      <td>113.500000</td>\n",
       "      <td>3</td>\n",
       "    </tr>\n",
       "    <tr>\n",
       "      <td>PA</td>\n",
       "      <td>113.333333</td>\n",
       "      <td>6</td>\n",
       "    </tr>\n",
       "  </tbody>\n",
       "</table>\n",
       "</div>"
      ],
      "text/plain": [
       "           avg_salary_x  avg_salary_y\n",
       "job_state                            \n",
       "DC           149.000000             5\n",
       "CA           142.522059            68\n",
       "UT           140.500000             3\n",
       "MO           127.666667             3\n",
       "IL           117.233333            15\n",
       "NC           117.000000             3\n",
       "NY           115.250000            40\n",
       "MA           113.750000            30\n",
       "WI           113.500000             3\n",
       "PA           113.333333             6"
      ]
     },
     "execution_count": 44,
     "metadata": {},
     "output_type": "execute_result"
    }
   ],
   "source": [
    "table_9[:10]"
   ]
  },
  {
   "cell_type": "code",
   "execution_count": 45,
   "metadata": {},
   "outputs": [
    {
     "data": {
      "text/html": [
       "<div>\n",
       "<style scoped>\n",
       "    .dataframe tbody tr th:only-of-type {\n",
       "        vertical-align: middle;\n",
       "    }\n",
       "\n",
       "    .dataframe tbody tr th {\n",
       "        vertical-align: top;\n",
       "    }\n",
       "\n",
       "    .dataframe thead th {\n",
       "        text-align: right;\n",
       "    }\n",
       "</style>\n",
       "<table border=\"1\" class=\"dataframe\">\n",
       "  <thead>\n",
       "    <tr style=\"text-align: right;\">\n",
       "      <th></th>\n",
       "      <th>avg_salary_x</th>\n",
       "      <th>avg_salary_y</th>\n",
       "    </tr>\n",
       "    <tr>\n",
       "      <th>job_state</th>\n",
       "      <th></th>\n",
       "      <th></th>\n",
       "    </tr>\n",
       "  </thead>\n",
       "  <tbody>\n",
       "    <tr>\n",
       "      <td>CA</td>\n",
       "      <td>142.522059</td>\n",
       "      <td>68</td>\n",
       "    </tr>\n",
       "    <tr>\n",
       "      <td>NY</td>\n",
       "      <td>115.250000</td>\n",
       "      <td>40</td>\n",
       "    </tr>\n",
       "    <tr>\n",
       "      <td>MA</td>\n",
       "      <td>113.750000</td>\n",
       "      <td>30</td>\n",
       "    </tr>\n",
       "    <tr>\n",
       "      <td>VA</td>\n",
       "      <td>108.416667</td>\n",
       "      <td>18</td>\n",
       "    </tr>\n",
       "    <tr>\n",
       "      <td>WA</td>\n",
       "      <td>99.764706</td>\n",
       "      <td>17</td>\n",
       "    </tr>\n",
       "    <tr>\n",
       "      <td>IL</td>\n",
       "      <td>117.233333</td>\n",
       "      <td>15</td>\n",
       "    </tr>\n",
       "    <tr>\n",
       "      <td>TX</td>\n",
       "      <td>100.730769</td>\n",
       "      <td>13</td>\n",
       "    </tr>\n",
       "    <tr>\n",
       "      <td>MD</td>\n",
       "      <td>109.115385</td>\n",
       "      <td>13</td>\n",
       "    </tr>\n",
       "    <tr>\n",
       "      <td>FL</td>\n",
       "      <td>97.357143</td>\n",
       "      <td>7</td>\n",
       "    </tr>\n",
       "    <tr>\n",
       "      <td>OH</td>\n",
       "      <td>105.285714</td>\n",
       "      <td>7</td>\n",
       "    </tr>\n",
       "  </tbody>\n",
       "</table>\n",
       "</div>"
      ],
      "text/plain": [
       "           avg_salary_x  avg_salary_y\n",
       "job_state                            \n",
       "CA           142.522059            68\n",
       "NY           115.250000            40\n",
       "MA           113.750000            30\n",
       "VA           108.416667            18\n",
       "WA            99.764706            17\n",
       "IL           117.233333            15\n",
       "TX           100.730769            13\n",
       "MD           109.115385            13\n",
       "FL            97.357143             7\n",
       "OH           105.285714             7"
      ]
     },
     "execution_count": 45,
     "metadata": {},
     "output_type": "execute_result"
    }
   ],
   "source": [
    "table_9.sort_values('avg_salary_y', ascending = False)[:10]"
   ]
  },
  {
   "cell_type": "markdown",
   "metadata": {},
   "source": [
    "The result shows that, Maximum salary giving state is 'DC' with Avg. value 149K USD, but 5 vacancies, where as Maximum vacancies(68) in 'CA' with second most salary giving state with avg. value 142.522K USD."
   ]
  },
  {
   "cell_type": "markdown",
   "metadata": {},
   "source": [
    "Seventh, Let's try to find top 5 avg salary with number of vacancies in various other features.  "
   ]
  },
  {
   "cell_type": "code",
   "execution_count": 46,
   "metadata": {},
   "outputs": [],
   "source": [
    "df_pivots = df[['Industry', 'Sector', 'Revenue', 'num_comp', 'hourly', 'employer_provided','Rating', 'python_yn', 'R_yn', 'spark', 'aws', 'excel', 'Type of ownership','avg_salary']]"
   ]
  },
  {
   "cell_type": "code",
   "execution_count": 47,
   "metadata": {},
   "outputs": [
    {
     "name": "stdout",
     "output_type": "stream",
     "text": [
      "feature name : Industry \n",
      " Top 5 Avg. Salary in feature : Industry \n",
      "                                           avg_salary_x  avg_salary_y\n",
      "Industry                                                            \n",
      "Other Retail Stores                            163.500             1\n",
      "Motion Picture Production & Distribution       146.000             1\n",
      "Financial Analytics & Research                 145.125             8\n",
      "Health, Beauty, & Fitness                      139.500             1\n",
      "Telecommunications Services                    131.500             4 \n",
      " Top 5 vacancies in feature :                                   avg_salary_x  avg_salary_y\n",
      "Industry                                                    \n",
      "Biotech & Pharmaceuticals           112.098214           112\n",
      "Insurance Carriers                  105.626984            63\n",
      "Computer Hardware & Software        115.194915            59\n",
      "IT Services                         102.840000            50\n",
      "Health Care Services & Hospitals     76.530612            49 \n",
      "\n",
      "feature name : Sector \n",
      " Top 5 Avg. Salary in feature : Sector \n",
      "                            avg_salary_x  avg_salary_y\n",
      "Sector                                               \n",
      "Media                        116.666667             6\n",
      "-1                           114.650000            10\n",
      "Accounting & Legal           113.500000             1\n",
      "Information Technology       113.191667           180\n",
      "Biotech & Pharmaceuticals    112.098214           112 \n",
      " Top 5 vacancies in feature :                            avg_salary_x  avg_salary_y\n",
      "Sector                                               \n",
      "Information Technology       113.191667           180\n",
      "Biotech & Pharmaceuticals    112.098214           112\n",
      "Business Services             97.701031            97\n",
      "Insurance                    105.942029            69\n",
      "Health Care                   76.530612            49 \n",
      "\n",
      "feature name : Revenue \n",
      " Top 5 Avg. Salary in feature : Revenue \n",
      "                             avg_salary_x  avg_salary_y\n",
      "Revenue                                               \n",
      "$5 to $10 million (USD)       126.111111            18\n",
      "$1 to $5 million (USD)        119.312500             8\n",
      "-1                            117.500000             1\n",
      "$10+ billion (USD)            115.568548           124\n",
      "Less than $1 million (USD)    108.625000             4 \n",
      " Top 5 vacancies in feature :                                   avg_salary_x  avg_salary_y\n",
      "Revenue                                                     \n",
      "Unknown / Non-Applicable            105.002463           203\n",
      "$10+ billion (USD)                  115.568548           124\n",
      "$100 to $500 million (USD)           86.005495            91\n",
      "$1 to $2 billion (USD)              104.533333            60\n",
      "$500 million to $1 billion (USD)     86.991228            57 \n",
      "\n",
      "feature name : num_comp \n",
      " Top 5 Avg. Salary in feature : num_comp \n",
      "           avg_salary_x  avg_salary_y\n",
      "num_comp                            \n",
      "2           108.085366            41\n",
      "1           106.208333            12\n",
      "3           105.504386           228\n",
      "0            98.797826           460\n",
      "4            56.500000             1 \n",
      " Top 5 vacancies in feature :           avg_salary_x  avg_salary_y\n",
      "num_comp                            \n",
      "0            98.797826           460\n",
      "3           105.504386           228\n",
      "2           108.085366            41\n",
      "1           106.208333            12\n",
      "4            56.500000             1 \n",
      "\n",
      "feature name : hourly \n",
      " Top 5 Avg. Salary in feature : hourly \n",
      "         avg_salary_x  avg_salary_y\n",
      "hourly                            \n",
      "0           103.1539           718\n",
      "1            50.0000            24 \n",
      " Top 5 vacancies in feature :         avg_salary_x  avg_salary_y\n",
      "hourly                            \n",
      "0           103.1539           718\n",
      "1            50.0000            24 \n",
      "\n",
      "feature name : employer_provided \n",
      " Top 5 Avg. Salary in feature : employer_provided \n",
      "                    avg_salary_x  avg_salary_y\n",
      "employer_provided                            \n",
      "1                    124.647059            17\n",
      "0                    100.890345           725 \n",
      " Top 5 vacancies in feature :                    avg_salary_x  avg_salary_y\n",
      "employer_provided                            \n",
      "0                    100.890345           725\n",
      "1                    124.647059            17 \n",
      "\n",
      "feature name : Rating \n",
      " Top 5 Avg. Salary in feature : Rating \n",
      "         avg_salary_x  avg_salary_y\n",
      "Rating                            \n",
      "-1.0      136.181818            11\n",
      " 5.0      134.700000             5 \n",
      " Top 5 vacancies in feature :         avg_salary_x  avg_salary_y\n",
      "Rating                            \n",
      " 3.9      113.071429            63\n",
      " 3.8       97.418033            61\n",
      " 3.7      105.680328            61\n",
      " 3.5      104.897959            49\n",
      " 4.0      107.170213            47\n",
      " 3.6       89.945652            46\n",
      " 3.4       93.465909            44\n",
      " 3.3      103.897436            39\n",
      " 3.2      106.928571            35\n",
      " 4.4      108.606061            33\n",
      " 4.3      102.468750            32\n",
      " 4.7      103.983871            31\n",
      " 4.2      100.442308            26\n",
      " 3.1       86.580000            25\n",
      " 4.1      116.368421            19\n",
      " 2.9       81.138889            18\n",
      " 3.0       85.588235            17\n",
      " 2.7       85.178571            14\n",
      " 2.6      109.083333            12\n",
      "-1.0      136.181818            11\n",
      " 4.6       97.250000            10\n",
      " 4.8       80.277778             9\n",
      " 4.5      117.714286             7\n",
      " 2.8       83.928571             7\n",
      " 2.4       60.214286             7\n",
      " 2.1       95.900000             5\n",
      " 5.0      134.700000             5 \n",
      "\n",
      "feature name : python_yn \n",
      " Top 5 Avg. Salary in feature : python_yn \n",
      "            avg_salary_x  avg_salary_y\n",
      "python_yn                            \n",
      "1            112.653061           392\n",
      "0             88.870000           350 \n",
      " Top 5 vacancies in feature :            avg_salary_x  avg_salary_y\n",
      "python_yn                            \n",
      "1            112.653061           392\n",
      "0             88.870000           350 \n",
      "\n",
      "feature name : R_yn \n",
      " Top 5 Avg. Salary in feature : R_yn \n",
      "       avg_salary_x  avg_salary_y\n",
      "R_yn                            \n",
      "0       101.517568           740\n",
      "1        70.750000             2 \n",
      " Top 5 vacancies in feature :       avg_salary_x  avg_salary_y\n",
      "R_yn                            \n",
      "0       101.517568           740\n",
      "1        70.750000             2 \n",
      "\n",
      "feature name : spark \n",
      " Top 5 Avg. Salary in feature : spark \n",
      "        avg_salary_x  avg_salary_y\n",
      "spark                            \n",
      "1        113.347305           167\n",
      "0         97.974783           575 \n",
      " Top 5 vacancies in feature :        avg_salary_x  avg_salary_y\n",
      "spark                            \n",
      "0         97.974783           575\n",
      "1        113.347305           167 \n",
      "\n",
      "feature name : aws \n",
      " Top 5 Avg. Salary in feature : aws \n",
      "      avg_salary_x  avg_salary_y\n",
      "aws                            \n",
      "1      113.048295           176\n",
      "0       97.823322           566 \n",
      " Top 5 vacancies in feature :      avg_salary_x  avg_salary_y\n",
      "aws                            \n",
      "0       97.823322           566\n",
      "1      113.048295           176 \n",
      "\n",
      "feature name : excel \n",
      " Top 5 Avg. Salary in feature : excel \n",
      "        avg_salary_x  avg_salary_y\n",
      "excel                            \n",
      "0        104.242938           354\n",
      "1         98.872423           388 \n",
      " Top 5 vacancies in feature :        avg_salary_x  avg_salary_y\n",
      "excel                            \n",
      "1         98.872423           388\n",
      "0        104.242938           354 \n",
      "\n",
      "feature name : Type of ownership \n",
      " Top 5 Avg. Salary in feature : Type of ownership \n",
      "                                 avg_salary_x  avg_salary_y\n",
      "Type of ownership                                         \n",
      "-1                                117.500000             1\n",
      "Company - Public                  111.033679           193\n",
      "Subsidiary or Business Segment    110.573529            34\n",
      "College / University              107.615385            13\n",
      "Company - Private                 102.060976           410 \n",
      " Top 5 vacancies in feature :                                 avg_salary_x  avg_salary_y\n",
      "Type of ownership                                         \n",
      "Company - Private                 102.060976           410\n",
      "Company - Public                  111.033679           193\n",
      "Nonprofit Organization             72.936364            55\n",
      "Subsidiary or Business Segment    110.573529            34\n",
      "Government                         85.633333            15 \n",
      "\n"
     ]
    }
   ],
   "source": [
    "for i in df_pivots.columns:\n",
    "    if i != 'avg_salary':\n",
    "        \n",
    "        table_a = pd.pivot_table(df_pivots,index =i, values = 'avg_salary')\n",
    "        table_b = pd.pivot_table(df_pivots,index =i, values = 'avg_salary',aggfunc={'avg_salary': 'count'})\n",
    "        table_c = pd.merge(table_a, table_b, 'left', on = [i]).sort_values('avg_salary_x', ascending = False)\n",
    "        table_d = table_c.sort_values('avg_salary_y', ascending = False)\n",
    "        print(f'feature name : {i} \\n Top 5 Avg. Salary in feature : {i} \\n {table_c[:5]} \\n Top 5 vacancies in feature : {table_d[:5]} \\n')"
   ]
  },
  {
   "cell_type": "markdown",
   "metadata": {},
   "source": [
    "#### Step 4:\n",
    "Model Preparation"
   ]
  },
  {
   "cell_type": "markdown",
   "metadata": {},
   "source": [
    "For this step, we will perform following primarily points:\n",
    "1. We need to select relevent number of features.For that, We will drop all those categorical features, which will have so many unique values. At the same time, we will drop numerial feature such as 'Founded' due to the same reason.In addition, we will also remove feature 'R_yn' becauese the value count of 0 is very big than value count for 1.\n",
    "2. To use categorical information, We need to create some dummy data. To generate those dummy data, intially, we need to do label encoding.In this method, we will assign numbers to the unique values of particular feature. Afte that, we will apply one hot encoding, where those assigned numbers will be converted in new feature. This whole process can be done with one function called, pandas.get_dummies(df).\n",
    "3. We need to separate train data and test data."
   ]
  },
  {
   "cell_type": "code",
   "execution_count": 48,
   "metadata": {},
   "outputs": [
    {
     "data": {
      "text/html": [
       "<div>\n",
       "<style scoped>\n",
       "    .dataframe tbody tr th:only-of-type {\n",
       "        vertical-align: middle;\n",
       "    }\n",
       "\n",
       "    .dataframe tbody tr th {\n",
       "        vertical-align: top;\n",
       "    }\n",
       "\n",
       "    .dataframe thead th {\n",
       "        text-align: right;\n",
       "    }\n",
       "</style>\n",
       "<table border=\"1\" class=\"dataframe\">\n",
       "  <thead>\n",
       "    <tr style=\"text-align: right;\">\n",
       "      <th></th>\n",
       "      <th>Rating</th>\n",
       "      <th>Size</th>\n",
       "      <th>Type of ownership</th>\n",
       "      <th>Industry</th>\n",
       "      <th>Sector</th>\n",
       "      <th>Revenue</th>\n",
       "      <th>hourly</th>\n",
       "      <th>employer_provided</th>\n",
       "      <th>avg_salary</th>\n",
       "      <th>job_state</th>\n",
       "      <th>same_state</th>\n",
       "      <th>age</th>\n",
       "      <th>python_yn</th>\n",
       "      <th>spark</th>\n",
       "      <th>aws</th>\n",
       "      <th>excel</th>\n",
       "      <th>job_simplified</th>\n",
       "      <th>seniority</th>\n",
       "      <th>desc_len</th>\n",
       "      <th>num_comp</th>\n",
       "    </tr>\n",
       "  </thead>\n",
       "  <tbody>\n",
       "    <tr>\n",
       "      <td>0</td>\n",
       "      <td>3.8</td>\n",
       "      <td>501 to 1000 employees</td>\n",
       "      <td>Company - Private</td>\n",
       "      <td>Aerospace &amp; Defense</td>\n",
       "      <td>Aerospace &amp; Defense</td>\n",
       "      <td>$50 to $100 million (USD)</td>\n",
       "      <td>0</td>\n",
       "      <td>0</td>\n",
       "      <td>72.0</td>\n",
       "      <td>NM</td>\n",
       "      <td>0</td>\n",
       "      <td>47</td>\n",
       "      <td>1</td>\n",
       "      <td>0</td>\n",
       "      <td>0</td>\n",
       "      <td>1</td>\n",
       "      <td>data scientist</td>\n",
       "      <td>na</td>\n",
       "      <td>2555</td>\n",
       "      <td>0</td>\n",
       "    </tr>\n",
       "    <tr>\n",
       "      <td>1</td>\n",
       "      <td>3.4</td>\n",
       "      <td>10000+ employees</td>\n",
       "      <td>Other Organization</td>\n",
       "      <td>Health Care Services &amp; Hospitals</td>\n",
       "      <td>Health Care</td>\n",
       "      <td>$2 to $5 billion (USD)</td>\n",
       "      <td>0</td>\n",
       "      <td>0</td>\n",
       "      <td>87.5</td>\n",
       "      <td>MD</td>\n",
       "      <td>0</td>\n",
       "      <td>36</td>\n",
       "      <td>1</td>\n",
       "      <td>0</td>\n",
       "      <td>0</td>\n",
       "      <td>0</td>\n",
       "      <td>data scientist</td>\n",
       "      <td>na</td>\n",
       "      <td>4828</td>\n",
       "      <td>0</td>\n",
       "    </tr>\n",
       "    <tr>\n",
       "      <td>2</td>\n",
       "      <td>4.8</td>\n",
       "      <td>501 to 1000 employees</td>\n",
       "      <td>Company - Private</td>\n",
       "      <td>Security Services</td>\n",
       "      <td>Business Services</td>\n",
       "      <td>$100 to $500 million (USD)</td>\n",
       "      <td>0</td>\n",
       "      <td>0</td>\n",
       "      <td>85.0</td>\n",
       "      <td>FL</td>\n",
       "      <td>1</td>\n",
       "      <td>10</td>\n",
       "      <td>1</td>\n",
       "      <td>1</td>\n",
       "      <td>0</td>\n",
       "      <td>1</td>\n",
       "      <td>data scientist</td>\n",
       "      <td>na</td>\n",
       "      <td>3495</td>\n",
       "      <td>0</td>\n",
       "    </tr>\n",
       "    <tr>\n",
       "      <td>3</td>\n",
       "      <td>3.8</td>\n",
       "      <td>1001 to 5000 employees</td>\n",
       "      <td>Government</td>\n",
       "      <td>Energy</td>\n",
       "      <td>Oil, Gas, Energy &amp; Utilities</td>\n",
       "      <td>$500 million to $1 billion (USD)</td>\n",
       "      <td>0</td>\n",
       "      <td>0</td>\n",
       "      <td>76.5</td>\n",
       "      <td>WA</td>\n",
       "      <td>1</td>\n",
       "      <td>55</td>\n",
       "      <td>1</td>\n",
       "      <td>0</td>\n",
       "      <td>0</td>\n",
       "      <td>0</td>\n",
       "      <td>data scientist</td>\n",
       "      <td>na</td>\n",
       "      <td>3926</td>\n",
       "      <td>3</td>\n",
       "    </tr>\n",
       "    <tr>\n",
       "      <td>4</td>\n",
       "      <td>2.9</td>\n",
       "      <td>51 to 200 employees</td>\n",
       "      <td>Company - Private</td>\n",
       "      <td>Advertising &amp; Marketing</td>\n",
       "      <td>Business Services</td>\n",
       "      <td>Unknown / Non-Applicable</td>\n",
       "      <td>0</td>\n",
       "      <td>0</td>\n",
       "      <td>114.5</td>\n",
       "      <td>NY</td>\n",
       "      <td>1</td>\n",
       "      <td>22</td>\n",
       "      <td>1</td>\n",
       "      <td>0</td>\n",
       "      <td>0</td>\n",
       "      <td>1</td>\n",
       "      <td>data scientist</td>\n",
       "      <td>na</td>\n",
       "      <td>2748</td>\n",
       "      <td>3</td>\n",
       "    </tr>\n",
       "  </tbody>\n",
       "</table>\n",
       "</div>"
      ],
      "text/plain": [
       "   Rating                    Size   Type of ownership  \\\n",
       "0     3.8   501 to 1000 employees   Company - Private   \n",
       "1     3.4        10000+ employees  Other Organization   \n",
       "2     4.8   501 to 1000 employees   Company - Private   \n",
       "3     3.8  1001 to 5000 employees          Government   \n",
       "4     2.9     51 to 200 employees   Company - Private   \n",
       "\n",
       "                           Industry                        Sector  \\\n",
       "0               Aerospace & Defense           Aerospace & Defense   \n",
       "1  Health Care Services & Hospitals                   Health Care   \n",
       "2                 Security Services             Business Services   \n",
       "3                            Energy  Oil, Gas, Energy & Utilities   \n",
       "4           Advertising & Marketing             Business Services   \n",
       "\n",
       "                            Revenue  hourly  employer_provided  avg_salary  \\\n",
       "0         $50 to $100 million (USD)       0                  0        72.0   \n",
       "1            $2 to $5 billion (USD)       0                  0        87.5   \n",
       "2        $100 to $500 million (USD)       0                  0        85.0   \n",
       "3  $500 million to $1 billion (USD)       0                  0        76.5   \n",
       "4          Unknown / Non-Applicable       0                  0       114.5   \n",
       "\n",
       "  job_state  same_state  age  python_yn  spark  aws  excel  job_simplified  \\\n",
       "0        NM           0   47          1      0    0      1  data scientist   \n",
       "1        MD           0   36          1      0    0      0  data scientist   \n",
       "2        FL           1   10          1      1    0      1  data scientist   \n",
       "3        WA           1   55          1      0    0      0  data scientist   \n",
       "4        NY           1   22          1      0    0      1  data scientist   \n",
       "\n",
       "  seniority  desc_len  num_comp  \n",
       "0        na      2555         0  \n",
       "1        na      4828         0  \n",
       "2        na      3495         0  \n",
       "3        na      3926         3  \n",
       "4        na      2748         3  "
      ]
     },
     "execution_count": 48,
     "metadata": {},
     "output_type": "execute_result"
    }
   ],
   "source": [
    "df_model = df.drop(columns=['Job Title','Salary Estimate','Job Description','Company Name','Location','Headquarters','Founded','Competitors','min_salary','max_salary','company_txt','R_yn'])\n",
    "df_model.head(5)"
   ]
  },
  {
   "cell_type": "code",
   "execution_count": 49,
   "metadata": {},
   "outputs": [
    {
     "data": {
      "text/plain": [
       "(742, 178)"
      ]
     },
     "execution_count": 49,
     "metadata": {},
     "output_type": "execute_result"
    }
   ],
   "source": [
    "df_dum = pd.get_dummies(df_model)\n",
    "df_dum.shape"
   ]
  },
  {
   "cell_type": "code",
   "execution_count": 50,
   "metadata": {},
   "outputs": [
    {
     "name": "stdout",
     "output_type": "stream",
     "text": [
      "(593, 177) (149, 177) (593,) (149,)\n"
     ]
    }
   ],
   "source": [
    "from sklearn.model_selection import train_test_split\n",
    "X = df_dum.drop('avg_salary', axis =1)\n",
    "y = df_dum.avg_salary.values\n",
    "X_train, X_test, y_train, y_test = train_test_split(X, y, test_size=0.2, random_state=42)\n",
    "print(X_train.shape,X_test.shape,y_train.shape,y_test.shape)"
   ]
  },
  {
   "cell_type": "markdown",
   "metadata": {},
   "source": [
    "#### Step 5:\n",
    "Models"
   ]
  },
  {
   "cell_type": "markdown",
   "metadata": {},
   "source": [
    "In this step, we are going to build the models such as multi linear regression, lasso regression, random forest and then, we will tune model by GridsearchCV."
   ]
  },
  {
   "cell_type": "markdown",
   "metadata": {},
   "source": [
    "###### model 1: Multi-linear regression model using Sklearn "
   ]
  },
  {
   "cell_type": "code",
   "execution_count": 51,
   "metadata": {},
   "outputs": [
    {
     "data": {
      "text/plain": [
       "-20.763805077648016"
      ]
     },
     "execution_count": 51,
     "metadata": {},
     "output_type": "execute_result"
    }
   ],
   "source": [
    "from sklearn.linear_model import LinearRegression\n",
    "from sklearn.model_selection import cross_val_score\n",
    "\n",
    "lm = LinearRegression()\n",
    "lm.fit(X_train, y_train)\n",
    "\n",
    "np.mean(cross_val_score(lm,X_train,y_train, scoring = 'neg_mean_absolute_error', cv= 3))"
   ]
  },
  {
   "cell_type": "markdown",
   "metadata": {},
   "source": [
    "###### model 2: Lasso regression model using Sklearn"
   ]
  },
  {
   "cell_type": "code",
   "execution_count": 52,
   "metadata": {},
   "outputs": [
    {
     "name": "stdout",
     "output_type": "stream",
     "text": [
      "-21.020736669277465\n"
     ]
    }
   ],
   "source": [
    "from sklearn.linear_model import Lasso\n",
    "lm_l = Lasso()\n",
    "print(np.mean(cross_val_score(lm_l,X_train,y_train, scoring = 'neg_mean_absolute_error', cv= 3)))"
   ]
  },
  {
   "cell_type": "markdown",
   "metadata": {},
   "source": [
    "The default alpha value for Lasso regression is 1. We will find it by try and error."
   ]
  },
  {
   "cell_type": "code",
   "execution_count": 53,
   "metadata": {},
   "outputs": [
    {
     "name": "stdout",
     "output_type": "stream",
     "text": [
      " best alpha value is 0.14 with error value -19.35477677789505\n",
      "-19.35477677789505\n"
     ]
    }
   ],
   "source": [
    "Alpha = np.array([])\n",
    "Error = np.array([])\n",
    "for i in range(1,1000):\n",
    "    alpha = i/100\n",
    "    lm_l = Lasso(alpha=alpha)\n",
    "    Error = np.append(Error,(np.mean(cross_val_score(lm_l,X_train,y_train, scoring = 'neg_mean_absolute_error', cv= 3))))\n",
    "    Alpha = np.append(Alpha,alpha)\n",
    "print(f' best alpha value is {Alpha[Error == Error.max()].item()} with error value {Error.max()}')\n",
    "\n",
    "lm_l = Lasso(alpha=Alpha[Error == Error.max()].item())\n",
    "lm_l.fit(X_train, y_train)"
   ]
  },
  {
   "cell_type": "markdown",
   "metadata": {},
   "source": [
    "###### model 3 : Random Forest model using Sklearn"
   ]
  },
  {
   "cell_type": "code",
   "execution_count": 54,
   "metadata": {},
   "outputs": [
    {
     "name": "stderr",
     "output_type": "stream",
     "text": [
      "F:\\Anaconda\\lib\\site-packages\\sklearn\\ensemble\\forest.py:245: FutureWarning: The default value of n_estimators will change from 10 in version 0.20 to 100 in 0.22.\n",
      "  \"10 in version 0.20 to 100 in 0.22.\", FutureWarning)\n",
      "F:\\Anaconda\\lib\\site-packages\\sklearn\\ensemble\\forest.py:245: FutureWarning: The default value of n_estimators will change from 10 in version 0.20 to 100 in 0.22.\n",
      "  \"10 in version 0.20 to 100 in 0.22.\", FutureWarning)\n",
      "F:\\Anaconda\\lib\\site-packages\\sklearn\\ensemble\\forest.py:245: FutureWarning: The default value of n_estimators will change from 10 in version 0.20 to 100 in 0.22.\n",
      "  \"10 in version 0.20 to 100 in 0.22.\", FutureWarning)\n"
     ]
    },
    {
     "data": {
      "text/plain": [
       "-15.949959835239023"
      ]
     },
     "execution_count": 54,
     "metadata": {},
     "output_type": "execute_result"
    }
   ],
   "source": [
    "from sklearn.ensemble import RandomForestRegressor\n",
    "rf = RandomForestRegressor()\n",
    "\n",
    "np.mean(cross_val_score(rf,X_train,y_train,scoring = 'neg_mean_absolute_error', cv= 3))"
   ]
  },
  {
   "cell_type": "markdown",
   "metadata": {},
   "source": [
    "###### Tune models using GridSearchCV"
   ]
  },
  {
   "cell_type": "code",
   "execution_count": 55,
   "metadata": {},
   "outputs": [
    {
     "name": "stderr",
     "output_type": "stream",
     "text": [
      "F:\\Anaconda\\lib\\site-packages\\sklearn\\model_selection\\_search.py:814: DeprecationWarning: The default of the `iid` parameter will change from True to False in version 0.22 and will be removed in 0.24. This will change numeric results when test-set sizes are unequal.\n",
      "  DeprecationWarning)\n"
     ]
    },
    {
     "data": {
      "text/plain": [
       "GridSearchCV(cv=3, error_score='raise-deprecating',\n",
       "             estimator=RandomForestRegressor(bootstrap=True, criterion='mse',\n",
       "                                             max_depth=None,\n",
       "                                             max_features='auto',\n",
       "                                             max_leaf_nodes=None,\n",
       "                                             min_impurity_decrease=0.0,\n",
       "                                             min_impurity_split=None,\n",
       "                                             min_samples_leaf=1,\n",
       "                                             min_samples_split=2,\n",
       "                                             min_weight_fraction_leaf=0.0,\n",
       "                                             n_estimators='warn', n_jobs=None,\n",
       "                                             oob_score=False, random_state=None,\n",
       "                                             verbose=0, warm_start=False),\n",
       "             iid='warn', n_jobs=None,\n",
       "             param_grid={'criterion': ('mse', 'mae'),\n",
       "                         'max_features': ('auto', 'sqrt', 'log2'),\n",
       "                         'n_estimators': range(10, 300, 10)},\n",
       "             pre_dispatch='2*n_jobs', refit=True, return_train_score=False,\n",
       "             scoring='neg_mean_absolute_error', verbose=0)"
      ]
     },
     "execution_count": 55,
     "metadata": {},
     "output_type": "execute_result"
    }
   ],
   "source": [
    "from sklearn.model_selection import GridSearchCV\n",
    "parameters = {'n_estimators':range(10,300,10), 'criterion':('mse','mae'), 'max_features':('auto','sqrt','log2')}\n",
    "\n",
    "gs = GridSearchCV(rf,parameters,scoring='neg_mean_absolute_error',cv=3)\n",
    "gs.fit(X_train,y_train)"
   ]
  },
  {
   "cell_type": "code",
   "execution_count": 56,
   "metadata": {},
   "outputs": [
    {
     "data": {
      "text/plain": [
       "-14.809302979201798"
      ]
     },
     "execution_count": 56,
     "metadata": {},
     "output_type": "execute_result"
    }
   ],
   "source": [
    "gs.best_score_"
   ]
  },
  {
   "cell_type": "code",
   "execution_count": 57,
   "metadata": {},
   "outputs": [
    {
     "data": {
      "text/plain": [
       "RandomForestRegressor(bootstrap=True, criterion='mse', max_depth=None,\n",
       "                      max_features='auto', max_leaf_nodes=None,\n",
       "                      min_impurity_decrease=0.0, min_impurity_split=None,\n",
       "                      min_samples_leaf=1, min_samples_split=2,\n",
       "                      min_weight_fraction_leaf=0.0, n_estimators=90,\n",
       "                      n_jobs=None, oob_score=False, random_state=None,\n",
       "                      verbose=0, warm_start=False)"
      ]
     },
     "execution_count": 57,
     "metadata": {},
     "output_type": "execute_result"
    }
   ],
   "source": [
    "gs.best_estimator_"
   ]
  },
  {
   "cell_type": "markdown",
   "metadata": {},
   "source": [
    "So far, Random Forest has minimum neg_mean_absolute_error while training."
   ]
  },
  {
   "cell_type": "markdown",
   "metadata": {},
   "source": [
    "#### Step 6:\n",
    "Model's Performace analysis"
   ]
  },
  {
   "cell_type": "code",
   "execution_count": 58,
   "metadata": {},
   "outputs": [],
   "source": [
    "tpred_lm = lm.predict(X_test)\n",
    "tpred_lml = lm_l.predict(X_test)\n",
    "tpred_rf = gs.best_estimator_.predict(X_test)"
   ]
  },
  {
   "cell_type": "code",
   "execution_count": 59,
   "metadata": {},
   "outputs": [
    {
     "name": "stdout",
     "output_type": "stream",
     "text": [
      "Model | Mean_absolute_error | Mean_squared_error | Square root mean_squared_error \n",
      " Linear Regression | 18.865433167473878 | 687.7448326647097 | 4.343435640995947 \n",
      " Lasso Regression | 19.742362906634053 | 651.3556621797281 | 4.443237885442783 \n",
      " Random Forest | 11.49619686800895 | 363.1667312950534 | 3.390604203974411\n"
     ]
    }
   ],
   "source": [
    "from sklearn import metrics\n",
    "lm_mean_absolute_error = metrics.mean_absolute_error(y_test,tpred_lm)\n",
    "lml_mean_absolute_error = metrics.mean_absolute_error(y_test,tpred_lml)\n",
    "rf_mean_absolute_error= metrics.mean_absolute_error(y_test,tpred_rf)\n",
    "lm_mean_squared_error = metrics.mean_squared_error(y_test,tpred_lm)\n",
    "lml_mean_squared_error = metrics.mean_squared_error(y_test,tpred_lml)\n",
    "rf_mean_squared_error= metrics.mean_squared_error(y_test,tpred_rf)\n",
    "lm_sqrt_mean_absolute_error = np.sqrt(metrics.mean_absolute_error(y_test,tpred_lm))\n",
    "lml_sqrt_mean_absolute_error = np.sqrt(metrics.mean_absolute_error(y_test,tpred_lml))\n",
    "rf_sqrt_mean_absolute_error= np.sqrt(metrics.mean_absolute_error(y_test,tpred_rf))\n",
    "print(f'Model | Mean_absolute_error | Mean_squared_error | Square root mean_squared_error \\n Linear Regression | {lm_mean_absolute_error} | {lm_mean_squared_error} | {lm_sqrt_mean_absolute_error} \\n Lasso Regression | {lml_mean_absolute_error} | {lml_mean_squared_error} | {lml_sqrt_mean_absolute_error} \\n Random Forest | {rf_mean_absolute_error} | {rf_mean_squared_error} | {rf_sqrt_mean_absolute_error}')"
   ]
  },
  {
   "cell_type": "code",
   "execution_count": 60,
   "metadata": {},
   "outputs": [
    {
     "data": {
      "text/plain": [
       "<matplotlib.legend.Legend at 0x232e986b9c8>"
      ]
     },
     "execution_count": 60,
     "metadata": {},
     "output_type": "execute_result"
    },
    {
     "data": {
      "image/png": "[encoded data removed]",
      "text/plain": [
       "<Figure size 864x360 with 3 Axes>"
      ]
     },
     "metadata": {
      "needs_background": "light"
     },
     "output_type": "display_data"
    }
   ],
   "source": [
    "fig, (ax1, ax2, ax3) = plt.subplots(1, 3,figsize=(12, 5),sharex=True,constrained_layout=True)\n",
    "fig.suptitle('Prediction comparison of different algorithms')\n",
    "ax1.scatter(y_test,tpred_lm,c = 'blue',label='Prediction')\n",
    "ax1.scatter(y_test,y_test,c='red',label='True_labels')\n",
    "ax1.set_title('Linear Regression')\n",
    "ax1.set(xlabel='Y_test', ylabel='Prediction')\n",
    "ax1.legend()\n",
    "\n",
    "ax2.scatter(y_test,tpred_lml,c='black',label='Prediction')\n",
    "ax2.scatter(y_test,y_test,c='red',label='True_labels')\n",
    "ax2.set_title('Lasso Regression')\n",
    "ax2.set(xlabel='Y_test', ylabel='Prediction')\n",
    "ax2.legend()\n",
    "\n",
    "ax3.scatter(y_test,tpred_rf,c='green',label='Prediction')\n",
    "ax3.scatter(y_test,y_test,c='red',label='True_labels')\n",
    "ax3.set_title('Random Forest')\n",
    "ax3.set(xlabel='Y_test',ylabel='Prediction')\n",
    "ax3.legend()"
   ]
  },
  {
   "cell_type": "markdown",
   "metadata": {},
   "source": [
    "Random Forest predictions are quite closer to the targets as compared with other algorithms."
   ]
  },
  {
   "cell_type": "code",
   "execution_count": 61,
   "metadata": {},
   "outputs": [
    {
     "data": {
      "text/plain": [
       "[Text(0, 0.5, 'Density')]"
      ]
     },
     "execution_count": 61,
     "metadata": {},
     "output_type": "execute_result"
    },
    {
     "data": {
      "image/png": "[encoded data removed]",
      "text/plain": [
       "<Figure size 1080x360 with 3 Axes>"
      ]
     },
     "metadata": {
      "needs_background": "light"
     },
     "output_type": "display_data"
    }
   ],
   "source": [
    "fig, (ax1,ax2,ax3) = plt.subplots(1, 3, figsize=(15, 5), sharey=True)\n",
    "fig.suptitle('Difference between the labels and predictions')\n",
    "sns.distplot(y_test-tpred_lm,ax=ax1)\n",
    "ax1.set_title('Linear Regression')\n",
    "ax1.set(ylabel='Density')\n",
    "sns.distplot(y_test-tpred_lml,ax=ax2)\n",
    "ax2.set_title('Lasso Regression')\n",
    "ax2.set(ylabel='Density')\n",
    "sns.distplot(y_test-tpred_rf,ax=ax3)\n",
    "ax3.set_title('Random Forest Regressor')\n",
    "ax3.set(ylabel='Density')"
   ]
  },
  {
   "cell_type": "markdown",
   "metadata": {},
   "source": [
    "Similarly, difference between the targets and predictions are much less in Random Forest algorithm.In addition, the standard deviation value will be less for that algorithm as compared with others. So we can say that random forest algorithm has dense data towards zero difference.  "
   ]
  },
  {
   "cell_type": "code",
   "execution_count": 62,
   "metadata": {},
   "outputs": [
    {
     "data": {
      "text/plain": [
       "<matplotlib.legend.Legend at 0x232e9c5b6c8>"
      ]
     },
     "execution_count": 62,
     "metadata": {},
     "output_type": "execute_result"
    },
    {
     "data": {
      "image/png": "[encoded data removed]",
      "text/plain": [
       "<Figure size 864x360 with 3 Axes>"
      ]
     },
     "metadata": {
      "needs_background": "light"
     },
     "output_type": "display_data"
    }
   ],
   "source": [
    "width = 0.35\n",
    "fig, (ax1, ax2, ax3) = plt.subplots(1, 3,figsize=(12, 5),sharex=True,constrained_layout=True)\n",
    "fig.suptitle('Error comparison of different algorithms')\n",
    "ax1.bar(1 - width,lm_mean_absolute_error, width,label = 'Linear Regression')\n",
    "ax1.bar(1 - width/4,lml_mean_absolute_error, width,label = 'Lasso Regression')\n",
    "ax1.bar(1 + width/2,rf_mean_absolute_error, width,label = 'Random Forest')\n",
    "ax1.set_title('mean_absolute_error')\n",
    "ax1.set(ylabel='Error')\n",
    "ax1.set_xticks([])\n",
    "ax1.legend(loc='lower center')\n",
    "ax2.bar(1 - width,lm_mean_squared_error, width,label = 'Linear Regression')\n",
    "ax2.bar(1 - width/4,lml_mean_squared_error, width,label = 'Lasso Regression')\n",
    "ax2.bar(1 + width/2,rf_mean_squared_error, width,label = 'Random Forest')\n",
    "ax2.set_title('mean_squared_error')\n",
    "ax2.set_xticks([])\n",
    "ax2.legend(loc='lower center')\n",
    "ax3.bar(1 - width,lm_sqrt_mean_absolute_error, width,label = 'Linear Regression')\n",
    "ax3.bar(1 - width/4,lml_sqrt_mean_absolute_error, width,label = 'Lasso Regression')\n",
    "ax3.bar(1 + width/2,rf_sqrt_mean_absolute_error, width,label = 'Random Forest')\n",
    "ax3.set_title('square-root_mean_squared_error')\n",
    "ax3.set_xticks([])\n",
    "ax3.legend(loc='lower center')"
   ]
  },
  {
   "cell_type": "markdown",
   "metadata": {},
   "source": [
    "Based on all the plots, we can say that, Random Forest has less error values compared with other algorithms."
   ]
  },
  {
   "cell_type": "markdown",
   "metadata": {},
   "source": [
    "#### Step 7:\n",
    "Future Work\n",
    "1. Deep Neural Networks will be performed.\n",
    "2. Deployment of the trained model in production will be generated."
   ]
  },
  {
   "cell_type": "markdown",
   "metadata": {},
   "source": [
    "###  Conclusion : \n",
    "#### After observing all graphs ,for this dataset Random Forest Regressor performs better than Linear Regresson. "
   ]
  },
  {
   "cell_type": "markdown",
   "metadata": {},
   "source": [
    "Here,the project ends. I hope, you have gained some valuable information."
   ]
  },
  {
   "cell_type": "markdown",
   "metadata": {},
   "source": [
    "### Thank You...!\n",
    "#### See you in the next project... "
   ]
  }
 ],
 "metadata": {
  "kernelspec": {
   "display_name": "Python 3",
   "language": "python",
   "name": "python3"
  },
  "language_info": {
   "codemirror_mode": {
    "name": "ipython",
    "version": 3
   },
   "file_extension": ".py",
   "mimetype": "text/x-python",
   "name": "python",
   "nbconvert_exporter": "python",
   "pygments_lexer": "ipython3",
   "version": "3.7.4"
  }
 },
 "nbformat": 4,
 "nbformat_minor": 2
}
